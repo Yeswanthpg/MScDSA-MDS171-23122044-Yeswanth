{
 "cells": [
  {
   "cell_type": "code",
   "execution_count": 14,
   "metadata": {},
   "outputs": [
    {
     "name": "stdout",
     "output_type": "stream",
     "text": [
      "Your name: yeswanth\n",
      " Name Exists\n",
      "Your name: q\n",
      "['yeswanth', 'SAnkar', 'sankar'] <IPython.core.autocall.ZMQExitAutocall object at 0x000001606C330A90>\n"
     ]
    },
    {
     "ename": "",
     "evalue": "",
     "output_type": "error",
     "traceback": [
      "\u001b[1;31mThe Kernel crashed while executing code in the the current cell or a previous cell. Please review the code in the cell(s) to identify a possible cause of the failure. Click <a href='https://aka.ms/vscodeJupyterKernelCrash'>here</a> for more info. View Jupyter <a href='command:jupyter.viewOutput'>log</a> for further details."
     ]
    }
   ],
   "source": [
    "def Name(list):\n",
    " n = input(\"Enter the Name:\")\n",
    " print(\"Your name:\",n)\n",
    " if n == 'q':\n",
    "  print(list,quit)\n",
    "  quit()\n",
    " elif n in list:\n",
    "  print(\" Name Exists\")\n",
    "  Name(list)\n",
    " elif len(n)==0 & n.isdigit():\n",
    "  print(\"enter a name\")\n",
    "  name(list)\n",
    " else:\n",
    "  list.append(n)\n",
    "  name(list)\n",
    "\n",
    " list = []\n",
    "Name(list)\n",
    "list.sort()\n"
   ]
  },
  {
   "cell_type": "code",
   "execution_count": null,
   "metadata": {},
   "outputs": [],
   "source": []
  }
 ],
 "metadata": {
  "kernelspec": {
   "display_name": "Python 3",
   "language": "python",
   "name": "python3"
  },
  "language_info": {
   "codemirror_mode": {
    "name": "ipython",
    "version": 3
   },
   "file_extension": ".py",
   "mimetype": "text/x-python",
   "name": "python",
   "nbconvert_exporter": "python",
   "pygments_lexer": "ipython3",
   "version": "3.11.4"
  },
  "orig_nbformat": 4
 },
 "nbformat": 4,
 "nbformat_minor": 2
}
