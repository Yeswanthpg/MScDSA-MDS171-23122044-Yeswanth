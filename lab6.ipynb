{
 "cells": [
  {
   "cell_type": "code",
   "execution_count": 15,
   "metadata": {},
   "outputs": [
    {
     "name": "stdout",
     "output_type": "stream",
     "text": [
      "The string is:aeiou\n",
      "Total number of vowels: 5\n",
      "Used vowel count:\n",
      "a: 1\n",
      "e: 1\n",
      "i: 1\n",
      "o: 1\n",
      "u: 1\n",
      "Percentage of vowels in the given string: 100.0 %\n"
     ]
    }
   ],
   "source": [
    "# Function to count vowels in a string\n",
    "def count_vowels(a):\n",
    "    vowels = \"aeiou\"\n",
    "    vowel_count = {}\n",
    "    total_vowels = 0\n",
    " #To count the no of vowel that are present in the string\n",
    "    for char in a:\n",
    "        if char in vowels:\n",
    "            char_lower = char.lower()\n",
    "            vowel_count[char_lower] = vowel_count.get(char_lower, 0) + 1\n",
    "            total_vowels += 1\n",
    "\n",
    "    return vowel_count, total_vowels\n",
    " #Returning value of vowel_count, total_vowels\n",
    "\n",
    "# Main program\n",
    "i = input(\"Enter a string: \")\n",
    "vcount, totcount = count_vowels(i)\n",
    "print(\"The string is:\"+i)\n",
    "print(\"Total number of vowels:\", totcount)\n",
    "print(\"Used vowel count:\")\n",
    "for vowel, count in vcount.items():\n",
    "    #To count the no of vowel that are present in the string and display it seperatly\n",
    "    print(f\"{vowel}: {count}\")\n",
    "percentage = (totcount / len(i)) * 100 \n",
    "#Calculating the percentage of vowels used in the string\n",
    "print(\"Percentage of vowels in the given string:\" ,percentage,\"%\")\n",
    "\n"
   ]
  }
 ],
 "metadata": {
  "kernelspec": {
   "display_name": "base",
   "language": "python",
   "name": "python3"
  },
  "language_info": {
   "name": "python",
   "version": "3.11.4"
  },
  "orig_nbformat": 4
 },
 "nbformat": 4,
 "nbformat_minor": 2
}
