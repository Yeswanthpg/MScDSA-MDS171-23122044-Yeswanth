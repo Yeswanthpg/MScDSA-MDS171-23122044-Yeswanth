{
 "cells": [
  {
   "cell_type": "code",
   "execution_count": 1,
   "metadata": {},
   "outputs": [
    {
     "data": {
      "text/plain": [
       "[' this is the first line in the file \\n',\n",
       " ' this is the second line\\n',\n",
       " ' this is the first line in the file \\n',\n",
       " ' this is the second line\\n',\n",
       " ' this is the first line in the file \\n',\n",
       " ' this is the second line\\n',\n",
       " ' this is the first line in the file \\n',\n",
       " ' this is the second line']"
      ]
     },
     "execution_count": 1,
     "metadata": {},
     "output_type": "execute_result"
    }
   ],
   "source": [
    "file_read = open(\"sample txt\",\"r+\")\n",
    "file_read.readline()\n",
    "file_read.readlines()"
   ]
  },
  {
   "cell_type": "code",
   "execution_count": 9,
   "metadata": {},
   "outputs": [
    {
     "name": "stdout",
     "output_type": "stream",
     "text": [
      "Your details are saved..\n",
      "******************************\n",
      "name \t:\tyeswanthregno \t:\t23122044phno \t:\t647843621email \t:\tydtwqftwg@adhsijd.nnjname \t:\tYeswanth\n",
      "\n",
      "regno \t:\t23122044\n",
      "\n",
      "phno \t:\t434734683\n",
      "\n",
      "email \t:\tyeswanthpg@gmail.com\n",
      "name \t:\tyeswanthregno \t:\t23122044phno \t:\t647843621email \t:\tydtwqftwg@adhsijd.nnjname \t:\tYeswanth\n",
      "\n",
      "regno \t:\t23122044\n",
      "\n",
      "phno \t:\t434734683\n",
      "\n",
      "email \t:\tyeswanthpg@gmail.com\n",
      "name \t:\tyeswanthregno \t:\t23122044phno \t:\t647843621email \t:\tydtwqftwg@adhsijd.nnjname \t:\tYeswanth\n",
      "\n",
      "regno \t:\t23122044\n",
      "\n",
      "phno \t:\t434734683\n",
      "\n",
      "email \t:\tyeswanthpg@gmail.com\n",
      "name \t:\tyeswanthregno \t:\t23122044phno \t:\t647843621email \t:\tydtwqftwg@adhsijd.nnjname \t:\tYeswanth\n",
      "\n",
      "regno \t:\t23122044\n",
      "\n",
      "phno \t:\t434734683\n",
      "\n",
      "email \t:\tyeswanthpg@gmail.com\n",
      "name \t:\tyeswanthregno \t:\t23122044phno \t:\t647843621email \t:\tydtwqftwg@adhsijd.nnjname \t:\tYeswanth\n",
      "\n",
      "******************************\n",
      "regno \t:\t23122044\n",
      "\n",
      "******************************\n",
      "phno \t:\t434734683\n",
      "\n",
      "******************************\n",
      "email \t:\tyeswanthpg@gmail.com\n",
      "******************************\n",
      "Some error occured..!\n"
     ]
    }
   ],
   "source": [
    "def writeMyDetails(name,regno,phno,email):\n",
    "    fileMyDetails = open(name+\".txt\",\"a+\")\n",
    "    fileMyDetails.write(\"name \\t:\\t\"+name)\n",
    "    fileMyDetails.write(\"\\nregno \\t:\\t\"+regno)\n",
    "    fileMyDetails.write(\"\\nphno \\t:\\t\"+phno)\n",
    "    fileMyDetails.write(\"\\nemail \\t:\\t\"+email)\n",
    "    fileMyDetails.close()\n",
    "    return True\n",
    "name = input(\"enter your name\")\n",
    "regno = input(\"enter your reg no\")\n",
    "phno = input(\"enter your phno\")\n",
    "email = input(\"enter your mail id\")\n",
    "ret = writeMyDetails(name,regno,phno,email)\n",
    "if ret:\n",
    "    print(\"Your details are saved..\")\n",
    "    print(\"*\"*30)\n",
    "    for line in open(name+\".txt\",\"r+\").readlines():\n",
    "        for line in open(name+\".txt\",\"r+\").readlines():\n",
    "         print(line)\n",
    "file = open(name+\".txt\", \"r+\")\n",
    "file_lines = file.readlines()\n",
    "for line in file_lines:\n",
    "        print(line)\n",
    "        print(\"*\"*30)\n",
    "else:\n",
    "    print(\"Some error occured..!\")\n",
    "        \n",
    "\n"
   ]
  }
 ],
 "metadata": {
  "kernelspec": {
   "display_name": "Python 3",
   "language": "python",
   "name": "python3"
  },
  "language_info": {
   "codemirror_mode": {
    "name": "ipython",
    "version": 3
   },
   "file_extension": ".py",
   "mimetype": "text/x-python",
   "name": "python",
   "nbconvert_exporter": "python",
   "pygments_lexer": "ipython3",
   "version": "3.11.4"
  },
  "orig_nbformat": 4
 },
 "nbformat": 4,
 "nbformat_minor": 2
}
