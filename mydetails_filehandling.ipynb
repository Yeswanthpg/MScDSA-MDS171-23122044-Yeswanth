{
 "cells": [
  {
   "cell_type": "code",
   "execution_count": 1,
   "metadata": {},
   "outputs": [
    {
     "data": {
      "text/plain": [
       "[' this is the first line in the file \\n',\n",
       " ' this is the second line\\n',\n",
       " ' this is the first line in the file \\n',\n",
       " ' this is the second line\\n',\n",
       " ' this is the first line in the file \\n',\n",
       " ' this is the second line\\n',\n",
       " ' this is the first line in the file \\n',\n",
       " ' this is the second line']"
      ]
     },
     "execution_count": 1,
     "metadata": {},
     "output_type": "execute_result"
    }
   ],
   "source": [
    "file_read = open(\"sample txt\",\"r+\")\n",
    "file_read.readline()\n",
    "file_read.readlines()"
   ]
  },
  {
   "cell_type": "code",
   "execution_count": 5,
   "metadata": {},
   "outputs": [
    {
     "ename": "TypeError",
     "evalue": "TextIOWrapper.write() takes exactly one argument (4 given)",
     "output_type": "error",
     "traceback": [
      "\u001b[1;31m---------------------------------------------------------------------------\u001b[0m",
      "\u001b[1;31mTypeError\u001b[0m                                 Traceback (most recent call last)",
      "Cell \u001b[1;32mIn[5], line 4\u001b[0m\n\u001b[0;32m      2\u001b[0m regno \u001b[39m=\u001b[39m \u001b[39minput\u001b[39m(\u001b[39m\"\u001b[39m\u001b[39m\"\u001b[39m)\n\u001b[0;32m      3\u001b[0m file \u001b[39m=\u001b[39m \u001b[39mopen\u001b[39m(\u001b[39m\"\u001b[39m\u001b[39mMy details\u001b[39m\u001b[39m\"\u001b[39m,\u001b[39m\"\u001b[39m\u001b[39mw+\u001b[39m\u001b[39m\"\u001b[39m)\n\u001b[1;32m----> 4\u001b[0m file\u001b[39m.\u001b[39;49mwrite(\u001b[39m\"\u001b[39;49m\u001b[39mname:\u001b[39;49m\u001b[39m\"\u001b[39;49m,name,\u001b[39m\"\u001b[39;49m\u001b[39m\\n\u001b[39;49;00m\u001b[39m reg no:\u001b[39;49m\u001b[39m\"\u001b[39;49m,regno)\n\u001b[0;32m      5\u001b[0m file\u001b[39m.\u001b[39mclose()\n",
      "\u001b[1;31mTypeError\u001b[0m: TextIOWrapper.write() takes exactly one argument (4 given)"
     ]
    }
   ],
   "source": [
    "def writeMyDetails(name,regno,phno,email):\n",
    "    fileMyDetails = open(name+\".txt\",\"a+\")\n",
    "    fileMyDetails.write(\"name \\t:\\t\"+name)\n",
    "    fileMyDetails.write(\"regno \\t:\\t\"+regno)\n",
    "    fileMyDetails.write(\"phno \\t:\\t\"+phno)\n",
    "    fileMyDetails.write(\"email \\t:\\t\"+email)\n",
    "    fileMyDetails.close()\n",
    "    return True\n",
    "name = input(\"enter your name\")\n",
    "regno = input(\"enter your reg no\")\n",
    "phno = input(\"enter your phno\")\n",
    "email = input(\"enter your mail id\")\n",
    "ret = writeMyDetails(name,regno,phno,email)\n",
    "if ret:\n",
    "    print(\"Your details are saved..\")\n",
    "    print(\"*\"*21)\n",
    "    for line in open(name+\".txt\",\"r+\").readlines():\n",
    "        \n",
    "\n"
   ]
  }
 ],
 "metadata": {
  "kernelspec": {
   "display_name": "Python 3",
   "language": "python",
   "name": "python3"
  },
  "language_info": {
   "codemirror_mode": {
    "name": "ipython",
    "version": 3
   },
   "file_extension": ".py",
   "mimetype": "text/x-python",
   "name": "python",
   "nbconvert_exporter": "python",
   "pygments_lexer": "ipython3",
   "version": "3.11.4"
  },
  "orig_nbformat": 4
 },
 "nbformat": 4,
 "nbformat_minor": 2
}
