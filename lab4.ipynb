{
 "cells": [
  {
   "cell_type": "code",
   "execution_count": 4,
   "metadata": {},
   "outputs": [
    {
     "ename": "TypeError",
     "evalue": "TextIOWrapper.write() takes exactly one argument (2 given)",
     "output_type": "error",
     "traceback": [
      "\u001b[1;31m---------------------------------------------------------------------------\u001b[0m",
      "\u001b[1;31mTypeError\u001b[0m                                 Traceback (most recent call last)",
      "Cell \u001b[1;32mIn[4], line 15\u001b[0m\n\u001b[0;32m     13\u001b[0m price \u001b[39m=\u001b[39m \u001b[39minput\u001b[39m(\u001b[39m\"\u001b[39m\u001b[39menter your price\u001b[39m\u001b[39m\"\u001b[39m)\n\u001b[0;32m     14\u001b[0m quantity \u001b[39m=\u001b[39m \u001b[39minput\u001b[39m(\u001b[39m\"\u001b[39m\u001b[39mquantity\u001b[39m\u001b[39m\"\u001b[39m)\n\u001b[1;32m---> 15\u001b[0m r \u001b[39m=\u001b[39m writeCulinarydelights(name,phno,order,price,quantity)\n\u001b[0;32m     16\u001b[0m \u001b[39mif\u001b[39;00m r:\n\u001b[0;32m     17\u001b[0m     \u001b[39mprint\u001b[39m(\u001b[39m\"\u001b[39m\u001b[39m\\t\u001b[39;00m\u001b[39m\\t\u001b[39;00m\u001b[39m\\t\u001b[39;00m\u001b[39m\\t\u001b[39;00m\u001b[39m Culinary Delights Lavasa\u001b[39m\u001b[39m\"\u001b[39m)\n",
      "Cell \u001b[1;32mIn[4], line 3\u001b[0m, in \u001b[0;36mwriteCulinarydelights\u001b[1;34m(name, phno, order, price, quantity)\u001b[0m\n\u001b[0;32m      1\u001b[0m \u001b[39mdef\u001b[39;00m \u001b[39mwriteCulinarydelights\u001b[39m(name,phno,order,price,quantity):\n\u001b[0;32m      2\u001b[0m     fileCulinarydelights \u001b[39m=\u001b[39m \u001b[39mopen\u001b[39m(\u001b[39m\"\u001b[39m\u001b[39mlab4.txt\u001b[39m\u001b[39m\"\u001b[39m,\u001b[39m\"\u001b[39m\u001b[39ma+\u001b[39m\u001b[39m\"\u001b[39m)\n\u001b[1;32m----> 3\u001b[0m     fileCulinarydelights\u001b[39m.\u001b[39;49mwrite(\u001b[39m\"\u001b[39;49m\u001b[39m\\n\u001b[39;49;00m\u001b[39mname \u001b[39;49m\u001b[39m\"\u001b[39;49m\u001b[39m+\u001b[39;49mname,\u001b[39m\"\u001b[39;49m\u001b[39m\\n\u001b[39;49;00m\u001b[39m\"\u001b[39;49m)\n\u001b[0;32m      4\u001b[0m     fileCulinarydelights\u001b[39m.\u001b[39mwrite(\u001b[39m\"\u001b[39m\u001b[39m\\t\u001b[39;00m\u001b[39m\\t\u001b[39;00m\u001b[39mphno \u001b[39m\u001b[39m\"\u001b[39m\u001b[39m+\u001b[39mphno,\u001b[39m\"\u001b[39m\u001b[39m\\n\u001b[39;00m\u001b[39m\"\u001b[39m)\n\u001b[0;32m      5\u001b[0m     fileCulinarydelights\u001b[39m.\u001b[39mwrite(\u001b[39m\"\u001b[39m\u001b[39m\\t\u001b[39;00m\u001b[39m\\t\u001b[39;00m\u001b[39morder \u001b[39m\u001b[39m\"\u001b[39m\u001b[39m+\u001b[39morder,\u001b[39m\"\u001b[39m\u001b[39m\\n\u001b[39;00m\u001b[39m\"\u001b[39m)\n",
      "\u001b[1;31mTypeError\u001b[0m: TextIOWrapper.write() takes exactly one argument (2 given)"
     ]
    }
   ],
   "source": [
    "\n",
    "def writeCulinarydelights(name,phno,order,price,quantity):\n",
    "    fileCulinarydelights = open(\"lab4.txt\",\"a+\")\n",
    "    fileCulinarydelights.write(\"\\nname \"+name)\n",
    "    fileCulinarydelights.write(\"\\t\\tphno \"+phno)\n",
    "    fileCulinarydelights.write(\"\\t\\torder \"+order)\n",
    "    fileCulinarydelights.write(\"\\t\\tprice \"+price)\n",
    "    fileCulinarydelights.write(\"\\t\\tquantity:\"+quantity)\n",
    "    fileCulinarydelights.close()\n",
    "    return True\n",
    "name = input(\"enter your name\")\n",
    "phno = input(\"enter your phno\")\n",
    "order = input(\"enter your order\")\n",
    "price = input(\"enter your price\")\n",
    "quantity = input(\"quantity\")\n",
    "r = writeCulinarydelights(name,phno,order,price,quantity)\n",
    "if r:\n",
    "    print(\"\\t\\t\\t\\t Culinary Delights Lavasa\")\n",
    "    print(\"_\"*150)\n",
    "    for line in open(\"lab4.txt\",\"r+\").readlines():\n",
    "      print(line)\n",
    "      file = open(\"lab4.txt\", \"r+\")\n",
    "      file_lines = file.readlines()\n",
    "    for line in file_lines:\n",
    "        print(line)\n",
    "    print(\"_\"*150)\n",
    "else:\n",
    "    print(\"Some error occured..!\")\n"
   ]
  }
 ],
 "metadata": {
  "kernelspec": {
   "display_name": "Python 3",
   "language": "python",
   "name": "python3"
  },
  "language_info": {
   "codemirror_mode": {
    "name": "ipython",
    "version": 3
   },
   "file_extension": ".py",
   "mimetype": "text/x-python",
   "name": "python",
   "nbconvert_exporter": "python",
   "pygments_lexer": "ipython3",
   "version": "3.11.4"
  },
  "orig_nbformat": 4
 },
 "nbformat": 4,
 "nbformat_minor": 2
}
