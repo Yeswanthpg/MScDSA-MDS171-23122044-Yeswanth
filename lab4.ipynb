{
 "cells": [
  {
   "cell_type": "code",
   "execution_count": 15,
   "metadata": {},
   "outputs": [
    {
     "name": "stdout",
     "output_type": "stream",
     "text": [
      "\t\t\t\t Culinary Delights Lavasa\n",
      "______________________________________________________________________________________________________________________________________________________\n",
      "name \t:\tsankar\n",
      "\n",
      "phno \t:\t8414087421\n",
      "\n",
      "order \t:\tDynamic prawns\n",
      "\n",
      "price \t:\t320\n",
      "\n",
      "review \t:\tHot and spicy\n",
      "name \t:\tsankar\n",
      "\n",
      "phno \t:\t8414087421\n",
      "\n",
      "order \t:\tDynamic prawns\n",
      "\n",
      "price \t:\t320\n",
      "\n",
      "review \t:\tHot and spicy\n",
      "______________________________________________________________________________________________________________________________________________________\n"
     ]
    }
   ],
   "source": [
    "\n",
    "def writeCulinarydelights(name,phno,order,price,review):\n",
    "    fileCulinarydelights = open(name+\"lab4.txt\",\"a+\")\n",
    "    fileCulinarydelights.write(\"name \\t:\\t\"+name)\n",
    "    fileCulinarydelights.write(\"\\nphno \\t:\\t\"+phno)\n",
    "    fileCulinarydelights.write(\"\\norder \\t:\\t\"+order)\n",
    "    fileCulinarydelights.write(\"\\nprice \\t:\\t\"+price)\n",
    "    fileCulinarydelights.write(\"\\nreview \\t:\\t\"+review)\n",
    "    fileCulinarydelights.close()\n",
    "    return True\n",
    "name = input(\"enter your name\")\n",
    "phno = input(\"enter your phno\")\n",
    "order = input(\"enter your order\")\n",
    "price = input(\"enter your price\")\n",
    "review = input(\"review\")\n",
    "ret = writeCulinarydelights(name,phno,order,price,review)\n",
    "if ret:\n",
    "    print(\"\\t\\t\\t\\t Culinary Delights Lavasa\")\n",
    "    print(\"_\"*150)\n",
    "    for line in open(name+\"lab4.txt\",\"r+\").readlines():\n",
    "      print(line)\n",
    "      file = open(name+\"lab4.txt\", \"r+\")\n",
    "      file_lines = file.readlines()\n",
    "    for line in file_lines:\n",
    "        print(line)\n",
    "    print(\"_\"*150)\n",
    "else:\n",
    "    print(\"Some error occured..!\")"
   ]
  }
 ],
 "metadata": {
  "kernelspec": {
   "display_name": "Python 3",
   "language": "python",
   "name": "python3"
  },
  "language_info": {
   "codemirror_mode": {
    "name": "ipython",
    "version": 3
   },
   "file_extension": ".py",
   "mimetype": "text/x-python",
   "name": "python",
   "nbconvert_exporter": "python",
   "pygments_lexer": "ipython3",
   "version": "3.11.4"
  },
  "orig_nbformat": 4
 },
 "nbformat": 4,
 "nbformat_minor": 2
}
