{
 "cells": [
  {
   "cell_type": "code",
   "execution_count": 9,
   "metadata": {},
   "outputs": [
    {
     "ename": "TypeError",
     "evalue": "writeCulinarydelights() missing 1 required positional argument: 'total'",
     "output_type": "error",
     "traceback": [
      "\u001b[1;31m---------------------------------------------------------------------------\u001b[0m",
      "\u001b[1;31mTypeError\u001b[0m                                 Traceback (most recent call last)",
      "Cell \u001b[1;32mIn[9], line 15\u001b[0m\n\u001b[0;32m     13\u001b[0m price \u001b[39m=\u001b[39m \u001b[39minput\u001b[39m(\u001b[39m\"\u001b[39m\u001b[39menter your price\u001b[39m\u001b[39m\"\u001b[39m)\n\u001b[0;32m     14\u001b[0m quantity \u001b[39m=\u001b[39m \u001b[39minput\u001b[39m(\u001b[39m\"\u001b[39m\u001b[39mquantity\u001b[39m\u001b[39m\"\u001b[39m)\n\u001b[1;32m---> 15\u001b[0m ret \u001b[39m=\u001b[39m writeCulinarydelights(name,phno,order,price,quantity)\n\u001b[0;32m     16\u001b[0m \u001b[39mif\u001b[39;00m ret:\n\u001b[0;32m     17\u001b[0m     \u001b[39mprint\u001b[39m(\u001b[39m\"\u001b[39m\u001b[39m\\t\u001b[39;00m\u001b[39m\\t\u001b[39;00m\u001b[39m\\t\u001b[39;00m\u001b[39m\\t\u001b[39;00m\u001b[39m Culinary Delights Lavasa\u001b[39m\u001b[39m\"\u001b[39m)\n",
      "\u001b[1;31mTypeError\u001b[0m: writeCulinarydelights() missing 1 required positional argument: 'total'"
     ]
    }
   ],
   "source": [
    "\n",
    "def writeCulinarydelights(name,phno,order,price,quantity):\n",
    "    fileCulinarydelights = open(\"lab4.txt\",\"a+\")\n",
    "    fileCulinarydelights.write(\"\\nname \\n\"+name)\n",
    "    fileCulinarydelights.write(\"\\t\\tphno \\n\"+phno)\n",
    "    fileCulinarydelights.write(\"\\t\\torder \\n\"+order)\n",
    "    fileCulinarydelights.write(\"\\t\\tprice \\n\"+price)\n",
    "    fileCulinarydelights.write(\"\\t\\tquantity\\n:\"+quantity)\n",
    "    fileCulinarydelights.close()\n",
    "    return True\n",
    "name = input(\"enter your name\")\n",
    "phno = input(\"enter your phno\")\n",
    "order = input(\"enter your order\")\n",
    "price = input(\"enter your price\")\n",
    "quantity = input(\"quantity\")\n",
    "ret = writeCulinarydelights(name,phno,order,price,quantity)\n",
    "if ret:\n",
    "    print(\"\\t\\t\\t\\t Culinary Delights Lavasa\")\n",
    "    print(\"_\"*150)\n",
    "    for line in open(\"lab4.txt\",\"r+\").readlines():\n",
    "      print(line)\n",
    "      file = open(\"lab4.txt\", \"r+\")\n",
    "      file_lines = file.readlines()\n",
    "    for line in file_lines:\n",
    "        print(line)\n",
    "    print(\"_\"*150)\n",
    "else:\n",
    "    print(\"Some error occured..!\")\n"
   ]
  }
 ],
 "metadata": {
  "kernelspec": {
   "display_name": "Python 3",
   "language": "python",
   "name": "python3"
  },
  "language_info": {
   "codemirror_mode": {
    "name": "ipython",
    "version": 3
   },
   "file_extension": ".py",
   "mimetype": "text/x-python",
   "name": "python",
   "nbconvert_exporter": "python",
   "pygments_lexer": "ipython3",
   "version": "3.11.4"
  },
  "orig_nbformat": 4
 },
 "nbformat": 4,
 "nbformat_minor": 2
}
