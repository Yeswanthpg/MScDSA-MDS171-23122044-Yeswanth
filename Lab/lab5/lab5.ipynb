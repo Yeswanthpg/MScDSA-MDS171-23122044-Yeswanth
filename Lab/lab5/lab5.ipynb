{
 "cells": [
  {
   "cell_type": "code",
   "execution_count": null,
   "metadata": {},
   "outputs": [],
   "source": [
    "import random\n",
    "import csv\n",
    "item = [\n",
    "    [\"apple\", 1, 100],\n",
    "    [\"egg\", 2, 6],\n",
    "    [\"pencil 3\", 3, 3],\n",
    "    [\"coffee\", 4, 20],\n",
    "    [\"cake\", 5, 40],\n",
    "    [\"ball\", 6, 15],\n",
    "    [\"yoyo\", 7, 199],\n",
    "    [\"juice\", 8, 50],\n",
    "    [\"fish\", 9, 20],\n",
    "    [\"shirt\", 10, 599]\n",
    "]\n",
    "def total(r):\n",
    "    return r[1] * r[2]\n",
    "# Replace 'your_registernumber.csv' with your actual filename\n",
    "csv_filename = '23122044.csv'\n",
    "\n",
    "with open(csv_filename, mode='w', newline='') as file:\n",
    "    writer = csv.writer(file)\n",
    "    writer.writerow(['Item', 'Quantity', 'Price', 'Total'])\n",
    "\n",
    "    for _ in range(100):  # Generate 100 rows\n",
    "        r1 = random.randint(0, len(item) - 1)\n",
    "        i = item[r1]\n",
    "        quantity = random.randint(1, 10)  # Random quantity between 1 and 10\n",
    "        t = total(i)\n",
    "        writer.writerow([i[0], quantity, i[2], t])\n",
    "   \n",
    "\n",
    "           \n",
    "\n",
    "\n",
    "\n",
    "\n",
    "\n",
    "\n"
   ]
  }
 ],
 "metadata": {
  "kernelspec": {
   "display_name": "Python 3",
   "language": "python",
   "name": "python3"
  },
  "language_info": {
   "codemirror_mode": {
    "name": "ipython",
    "version": 3
   },
   "file_extension": ".py",
   "mimetype": "text/x-python",
   "name": "python",
   "nbconvert_exporter": "python",
   "pygments_lexer": "ipython3",
   "version": "3.10.7"
  },
  "orig_nbformat": 4
 },
 "nbformat": 4,
 "nbformat_minor": 2
}
