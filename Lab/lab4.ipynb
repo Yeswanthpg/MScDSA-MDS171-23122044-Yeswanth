{
 "cells": [
  {
   "cell_type": "code",
   "execution_count": 1,
   "metadata": {},
   "outputs": [
    {
     "name": "stdout",
     "output_type": "stream",
     "text": [
      "\t\t\t\t Culinary Delights Lavasa\n",
      "______________________________________________________________________________________________________________________________________________________\n",
      "\n",
      "\n",
      "name \n",
      "\n",
      "yeswanth\t\tphno \n",
      "\n",
      "547647353\t\torder \n",
      "\n",
      "chicken\t\tprice \n",
      "\n",
      "211\t\tquantity\n",
      "\n",
      ":2\n",
      "\n",
      "name yeavjas\t\tphno 63512638512\t\torder chicken\t\tprice 232\t\tquantity:1\n",
      "\n",
      "name hai\t\tphno dbbddsa\t\torder bsdkabd\t\tprice sdasbk\t\tquantity:ns ns\n",
      "\n",
      "\n",
      "name \n",
      "\n",
      "yeswanth\t\tphno \n",
      "\n",
      "547647353\t\torder \n",
      "\n",
      "chicken\t\tprice \n",
      "\n",
      "211\t\tquantity\n",
      "\n",
      ":2\n",
      "\n",
      "name yeavjas\t\tphno 63512638512\t\torder chicken\t\tprice 232\t\tquantity:1\n",
      "\n",
      "name hai\t\tphno dbbddsa\t\torder bsdkabd\t\tprice sdasbk\t\tquantity:ns ns\n",
      "______________________________________________________________________________________________________________________________________________________\n"
     ]
    }
   ],
   "source": [
    "\n",
    "def writeCulinarydelights(name,phno,order,price,quantity):\n",
    "    fileCulinarydelights = open(\"lab4.txt\",\"a+\")\n",
    "    fileCulinarydelights.write(\"\\nname \"+name)\n",
    "    fileCulinarydelights.write(\"\\t\\tphno \"+phno)\n",
    "    fileCulinarydelights.write(\"\\t\\torder \"+order)\n",
    "    fileCulinarydelights.write(\"\\t\\tprice \"+price)\n",
    "    fileCulinarydelights.write(\"\\t\\tquantity:\"+quantity)\n",
    "    fileCulinarydelights.close()\n",
    "    return True\n",
    "name = input(\"enter your name\")\n",
    "phno = input(\"enter your phno\")\n",
    "order = input(\"enter your order\")\n",
    "price = input(\"enter your price\")\n",
    "quantity = input(\"quantity\")\n",
    "r = writeCulinarydelights(name,phno,order,price,quantity)\n",
    "if r:\n",
    "    print(\"\\t\\t\\t\\t Culinary Delights Lavasa\")\n",
    "    print(\"_\"*150)\n",
    "    for line in open(\"lab4.txt\",\"r+\").readlines():\n",
    "      print(line)\n",
    "      file = open(\"lab4.txt\", \"r+\")\n",
    "      file_lines = file.readlines()\n",
    "    for line in file_lines:\n",
    "        print(line)\n",
    "    print(\"_\"*150)\n",
    "else:\n",
    "    print(\"Some error occured..!\")\n"
   ]
  }
 ],
 "metadata": {
  "kernelspec": {
   "display_name": "Python 3",
   "language": "python",
   "name": "python3"
  },
  "language_info": {
   "codemirror_mode": {
    "name": "ipython",
    "version": 3
   },
   "file_extension": ".py",
   "mimetype": "text/x-python",
   "name": "python",
   "nbconvert_exporter": "python",
   "pygments_lexer": "ipython3",
   "version": "3.11.4"
  },
  "orig_nbformat": 4
 },
 "nbformat": 4,
 "nbformat_minor": 2
}
