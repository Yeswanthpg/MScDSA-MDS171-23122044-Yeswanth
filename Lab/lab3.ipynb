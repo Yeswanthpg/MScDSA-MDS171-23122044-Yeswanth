{
 "cells": [
  {
   "cell_type": "markdown",
   "metadata": {},
   "source": []
  },
  {
   "cell_type": "code",
   "execution_count": 2,
   "metadata": {},
   "outputs": [
    {
     "name": "stdout",
     "output_type": "stream",
     "text": [
      "Mean value is : 542.94\n"
     ]
    },
    {
     "ename": "NameError",
     "evalue": "name 'a_minimum' is not defined",
     "output_type": "error",
     "traceback": [
      "\u001b[1;31m---------------------------------------------------------------------------\u001b[0m",
      "\u001b[1;31mNameError\u001b[0m                                 Traceback (most recent call last)",
      "\u001b[1;32mc:\\Users\\yeswa\\MScDSA-MDS171-23122044-Yeswanth\\lab3.ipynb Cell 2\u001b[0m line \u001b[0;36m3\n\u001b[0;32m     <a href='vscode-notebook-cell:/c%3A/Users/yeswa/MScDSA-MDS171-23122044-Yeswanth/lab3.ipynb#W1sZmlsZQ%3D%3D?line=27'>28</a>\u001b[0m     \u001b[39mreturn\u001b[39;00m minimum\n\u001b[0;32m     <a href='vscode-notebook-cell:/c%3A/Users/yeswa/MScDSA-MDS171-23122044-Yeswanth/lab3.ipynb#W1sZmlsZQ%3D%3D?line=29'>30</a>\u001b[0m \u001b[39m# Calculate the descriptive statistics using a functions\u001b[39;00m\n\u001b[1;32m---> <a href='vscode-notebook-cell:/c%3A/Users/yeswa/MScDSA-MDS171-23122044-Yeswanth/lab3.ipynb#W1sZmlsZQ%3D%3D?line=30'>31</a>\u001b[0m a_minimum_result \u001b[39m=\u001b[39m a_minimum(n)\n\u001b[0;32m     <a href='vscode-notebook-cell:/c%3A/Users/yeswa/MScDSA-MDS171-23122044-Yeswanth/lab3.ipynb#W1sZmlsZQ%3D%3D?line=32'>33</a>\u001b[0m \u001b[39m# Display the results\u001b[39;00m\n\u001b[0;32m     <a href='vscode-notebook-cell:/c%3A/Users/yeswa/MScDSA-MDS171-23122044-Yeswanth/lab3.ipynb#W1sZmlsZQ%3D%3D?line=33'>34</a>\u001b[0m \u001b[39mprint\u001b[39m(\u001b[39m\"\u001b[39m\u001b[39mMinimum value is :\u001b[39m\u001b[39m\"\u001b[39m, a_minimum_result)\n",
      "\u001b[1;31mNameError\u001b[0m: name 'a_minimum' is not defined"
     ]
    }
   ],
   "source": [
    "# The given set of numbers\n",
    "n = [761, 123, 585, 275, 194, 840, 999, 622, 763, 40, 825, 687, 402, 338, 611, 987, 739, 95, 819, 568, 320, 126, 688, 948, 514, 223, 751, 379, 857, 767, 492, 162, 437, 934, 430, 343, 725, 511, 580, 678, 708, 823, 346, 179, 786, 663, 195, 890, 267, 502, 214, 300, 786, 961, 235, 559, 992, 919, 948, 318, 57, 787, 653, 317, 305, 172, 966, 182, 970, 17, 89, 624, 629, 595, 485, 752, 984, 978, 460, 124, 321, 256, 614, 852, 811, 561, 127, 207, 406, 615, 888, 391, 691, 470, 911, 401, 137, 600, 478, 682]\n",
    "\n",
    "# Define a custom function to calculate the mean\n",
    "def a_mean(n):\n",
    "    if not n:\n",
    "        return 0\n",
    "    total = 0\n",
    "    count = 0\n",
    "    for i in n:\n",
    "        total = total + i\n",
    "        count = count + 1\n",
    "    return total / count\n",
    "\n",
    "# Calculate the descriptive statistics using a functions\n",
    "a_mean_result = a_mean(n)\n",
    "\n",
    "# Display the results\n",
    "print(\"Mean value is :\", a_mean_result)\n",
    "\n",
    "def a_mininum(n):\n",
    "    if not n:\n",
    "        return 0\n",
    "    minimum = n[0]\n",
    "    for i in n:\n",
    "        if i < minimum:\n",
    "            minimum = i\n",
    "    return minimum\n",
    "\n",
    "# Calculate the descriptive statistics using a functions\n",
    "a_minimum_result = a_minimum(n)\n",
    "\n",
    "# Display the results\n",
    "print(\"Minimum value is :\", a_minimum_result)\n",
    "\n",
    "def a_maximum(n):\n",
    "    if not n:\n",
    "        return 0  \n",
    "    maximum = n[0]\n",
    "    for i in n:\n",
    "        if i > maximum:\n",
    "            maximum = i\n",
    "    return maximum\n",
    "\n",
    "# Calculate the descriptive statistics using a functions\n",
    "a_maximum_result = a_maximum(n)\n",
    "\n",
    "# Display the results\n",
    "print(\"Maximum value is :\", a_maximum_result)\n",
    "\n",
    "def a_range(n):\n",
    "    if not n:\n",
    "        return 0  \n",
    "    minimum = maximum = n[0]\n",
    "    for i in n:\n",
    "        if i < minimum:\n",
    "            minimum = i\n",
    "        if i > maximum:\n",
    "            maximum = i\n",
    "    return maximum - minimum\n",
    "\n",
    "# Calculate the descriptive statistics using a functions\n",
    "a_range_result = a_range(n)\n",
    "\n",
    "# Display the results\n",
    "print(\"Maximum value is :\", a_range_result)\n",
    "\n",
    "# Calculate the mean using built-in functions\n",
    "mean = sum(n) / len(n)\n",
    "\n",
    "# Calculate the minimum using built-in functions\n",
    "minimum = min(n)\n",
    "\n",
    "# Calculate the maximum using built-in functions\n",
    "maximum = max(n)\n",
    "\n",
    "# Calculate the range using built-in functions\n",
    "range = maximum - minimum\n",
    "\n",
    "# Display the results\n",
    "print(\"By using the built functions\")\n",
    "print(\"Mean:\", mean)\n",
    "print(\"Minimum:\", minimum)\n",
    "print(\"Maximum:\", maximum)\n",
    "print(\"Range:\", range)\n"
   ]
  }
 ],
 "metadata": {
  "kernelspec": {
   "display_name": "Python 3",
   "language": "python",
   "name": "python3"
  },
  "language_info": {
   "codemirror_mode": {
    "name": "ipython",
    "version": 3
   },
   "file_extension": ".py",
   "mimetype": "text/x-python",
   "name": "python",
   "nbconvert_exporter": "python",
   "pygments_lexer": "ipython3",
   "version": "3.11.4"
  },
  "orig_nbformat": 4
 },
 "nbformat": 4,
 "nbformat_minor": 2
}
