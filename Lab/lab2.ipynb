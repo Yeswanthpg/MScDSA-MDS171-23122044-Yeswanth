{
 "cells": [
  {
   "cell_type": "code",
   "execution_count": 1,
   "metadata": {},
   "outputs": [
    {
     "name": "stdout",
     "output_type": "stream",
     "text": [
      "Your name: YESN KSA\n"
     ]
    },
    {
     "ename": "TypeError",
     "evalue": "argument of type 'type' is not iterable",
     "output_type": "error",
     "traceback": [
      "\u001b[1;31m---------------------------------------------------------------------------\u001b[0m",
      "\u001b[1;31mTypeError\u001b[0m                                 Traceback (most recent call last)",
      "\u001b[1;32mc:\\Users\\yeswa\\MScDSA-MDS171-23122044-Yeswanth\\lab2.ipynb Cell 1\u001b[0m line \u001b[0;36m1\n\u001b[0;32m     <a href='vscode-notebook-cell:/c%3A/Users/yeswa/MScDSA-MDS171-23122044-Yeswanth/lab2.ipynb#W0sZmlsZQ%3D%3D?line=14'>15</a>\u001b[0m   Name(\u001b[39mlist\u001b[39m)\n\u001b[0;32m     <a href='vscode-notebook-cell:/c%3A/Users/yeswa/MScDSA-MDS171-23122044-Yeswanth/lab2.ipynb#W0sZmlsZQ%3D%3D?line=16'>17</a>\u001b[0m  \u001b[39mlist\u001b[39m \u001b[39m=\u001b[39m []\n\u001b[1;32m---> <a href='vscode-notebook-cell:/c%3A/Users/yeswa/MScDSA-MDS171-23122044-Yeswanth/lab2.ipynb#W0sZmlsZQ%3D%3D?line=17'>18</a>\u001b[0m Name(\u001b[39mlist\u001b[39;49m)\n\u001b[0;32m     <a href='vscode-notebook-cell:/c%3A/Users/yeswa/MScDSA-MDS171-23122044-Yeswanth/lab2.ipynb#W0sZmlsZQ%3D%3D?line=18'>19</a>\u001b[0m \u001b[39mlist\u001b[39m\u001b[39m.\u001b[39msort()\n",
      "\u001b[1;32mc:\\Users\\yeswa\\MScDSA-MDS171-23122044-Yeswanth\\lab2.ipynb Cell 1\u001b[0m line \u001b[0;36m7\n\u001b[0;32m      <a href='vscode-notebook-cell:/c%3A/Users/yeswa/MScDSA-MDS171-23122044-Yeswanth/lab2.ipynb#W0sZmlsZQ%3D%3D?line=4'>5</a>\u001b[0m  \u001b[39mprint\u001b[39m(\u001b[39mlist\u001b[39m,quit)\n\u001b[0;32m      <a href='vscode-notebook-cell:/c%3A/Users/yeswa/MScDSA-MDS171-23122044-Yeswanth/lab2.ipynb#W0sZmlsZQ%3D%3D?line=5'>6</a>\u001b[0m  quit()\n\u001b[1;32m----> <a href='vscode-notebook-cell:/c%3A/Users/yeswa/MScDSA-MDS171-23122044-Yeswanth/lab2.ipynb#W0sZmlsZQ%3D%3D?line=6'>7</a>\u001b[0m \u001b[39melif\u001b[39;00m n \u001b[39min\u001b[39;49;00m \u001b[39mlist\u001b[39;49m:\n\u001b[0;32m      <a href='vscode-notebook-cell:/c%3A/Users/yeswa/MScDSA-MDS171-23122044-Yeswanth/lab2.ipynb#W0sZmlsZQ%3D%3D?line=7'>8</a>\u001b[0m  \u001b[39mprint\u001b[39m(\u001b[39m\"\u001b[39m\u001b[39m Name Exists\u001b[39m\u001b[39m\"\u001b[39m)\n\u001b[0;32m      <a href='vscode-notebook-cell:/c%3A/Users/yeswa/MScDSA-MDS171-23122044-Yeswanth/lab2.ipynb#W0sZmlsZQ%3D%3D?line=8'>9</a>\u001b[0m  Name(\u001b[39mlist\u001b[39m)\n",
      "\u001b[1;31mTypeError\u001b[0m: argument of type 'type' is not iterable"
     ]
    }
   ],
   "source": [
    "def Name(list):\n",
    " n = input(\"Enter the Name:\")\n",
    " print(\"Your name:\",n)\n",
    " if n == 'q':\n",
    "  print(list,quit)\n",
    "  quit()\n",
    " elif n in list:\n",
    "  print(\" Name Exists\")\n",
    "  Name(list)\n",
    " elif len(n)==0 & n.isdigit():\n",
    "  print(\"enter a name\")\n",
    "  Name(list)\n",
    " else:\n",
    "  list.append(n)\n",
    "  Name(list)\n",
    "\n",
    " list = []\n",
    "Name(list)\n",
    "list.sort()\n"
   ]
  },
  {
   "cell_type": "code",
   "execution_count": null,
   "metadata": {},
   "outputs": [],
   "source": []
  }
 ],
 "metadata": {
  "kernelspec": {
   "display_name": "Python 3",
   "language": "python",
   "name": "python3"
  },
  "language_info": {
   "codemirror_mode": {
    "name": "ipython",
    "version": 3
   },
   "file_extension": ".py",
   "mimetype": "text/x-python",
   "name": "python",
   "nbconvert_exporter": "python",
   "pygments_lexer": "ipython3",
   "version": "3.11.4"
  },
  "orig_nbformat": 4
 },
 "nbformat": 4,
 "nbformat_minor": 2
}
