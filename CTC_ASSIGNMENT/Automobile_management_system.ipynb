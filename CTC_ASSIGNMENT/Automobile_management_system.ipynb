{
 "cells": [
  {
   "cell_type": "code",
   "execution_count": 3,
   "metadata": {},
   "outputs": [],
   "source": [
    "import sqlite3\n",
    "\n",
    "# Connect to the database\n",
    "conn = sqlite3.connect(\"automobiles.db\")\n",
    "cursor = conn.cursor()\n",
    "\n",
    "# Create a table to store vehicle information\n",
    "cursor.execute('''CREATE TABLE IF NOT EXISTS vehicles (\n",
    "                    id INTEGER PRIMARY KEY,\n",
    "                    make TEXT,\n",
    "                    model TEXT,\n",
    "                    year INTEGER,\n",
    "                    mileage REAL\n",
    "                )''')\n",
    "conn.commit()\n"
   ]
  },
  {
   "cell_type": "markdown",
   "metadata": {},
   "source": [
    "data analysis"
   ]
  },
  {
   "cell_type": "code",
   "execution_count": 6,
   "metadata": {},
   "outputs": [
    {
     "name": "stdout",
     "output_type": "stream",
     "text": [
      "Average mileage for Toyota vehicles: 0.0 miles\n"
     ]
    }
   ],
   "source": [
    "def calculate_average_mileage(make):\n",
    "    cursor.execute(\"SELECT AVG(mileage) FROM vehicles WHERE make=?\", (make,))\n",
    "    result = cursor.fetchone()\n",
    "    return result[0] if result[0] else 0.0\n",
    "\n",
    "average_mileage = calculate_average_mileage(\"Toyota\")\n",
    "print(f\"Average mileage for Toyota vehicles: {average_mileage} miles\")\n"
   ]
  },
  {
   "cell_type": "code",
   "execution_count": 7,
   "metadata": {},
   "outputs": [
    {
     "name": "stdout",
     "output_type": "stream",
     "text": [
      "1. Add Vehicle\n",
      "2. Show All Vehicles\n",
      "3. Calculate Average Mileage for Toyota\n",
      "4. Quit\n",
      "1. Add Vehicle\n",
      "2. Show All Vehicles\n",
      "3. Calculate Average Mileage for Toyota\n",
      "4. Quit\n",
      "ID: 1\n",
      "Make: Hyundai\n",
      "Model: I20\n",
      "Year: 2019\n",
      "Mileage: 18.0 miles\n",
      "\n",
      "1. Add Vehicle\n",
      "2. Show All Vehicles\n",
      "3. Calculate Average Mileage for Toyota\n",
      "4. Quit\n",
      "Average mileage for Toyota vehicles: 0.0 miles\n",
      "1. Add Vehicle\n",
      "2. Show All Vehicles\n",
      "3. Calculate Average Mileage for Toyota\n",
      "4. Quit\n",
      "Average mileage for Toyota vehicles: 0.0 miles\n",
      "1. Add Vehicle\n",
      "2. Show All Vehicles\n",
      "3. Calculate Average Mileage for Toyota\n",
      "4. Quit\n"
     ]
    }
   ],
   "source": [
    "def show_all_vehicles():\n",
    "    cursor.execute(\"SELECT * FROM vehicles\")\n",
    "    vehicles = cursor.fetchall()\n",
    "    for vehicle in vehicles:\n",
    "        print(f\"ID: {vehicle[0]}\")\n",
    "        print(f\"Make: {vehicle[1]}\")\n",
    "        print(f\"Model: {vehicle[2]}\")\n",
    "        print(f\"Year: {vehicle[3]}\")\n",
    "        print(f\"Mileage: {vehicle[4]} miles\")\n",
    "        print()\n",
    "\n",
    "def main():\n",
    "    while True:\n",
    "        print(\"1. Add Vehicle\")\n",
    "        print(\"2. Show All Vehicles\")\n",
    "        print(\"3. Calculate Average Mileage for Toyota\")\n",
    "        print(\"4. Quit\")\n",
    "\n",
    "        choice = input(\"Enter your choice: \")\n",
    "\n",
    "        if choice == \"1\":\n",
    "            make = input(\"Enter the make: \")\n",
    "            model = input(\"Enter the model: \")\n",
    "            year = int(input(\"Enter the year: \"))\n",
    "            mileage = float(input(\"Enter the mileage: \"))\n",
    "            cursor.execute(\"INSERT INTO vehicles (make, model, year, mileage) VALUES (?, ?, ?, ?)\",\n",
    "                           (make, model, year, mileage))\n",
    "            conn.commit()\n",
    "\n",
    "        elif choice == \"2\":\n",
    "            show_all_vehicles()\n",
    "\n",
    "        elif choice == \"3\":\n",
    "            average_mileage = calculate_average_mileage(\"Toyota\")\n",
    "            print(f\"Average mileage for Toyota vehicles: {average_mileage} miles\")\n",
    "\n",
    "        elif choice == \"4\":\n",
    "            break\n",
    "\n",
    "if __name__ == \"__main__\":\n",
    "    main()\n"
   ]
  }
 ],
 "metadata": {
  "kernelspec": {
   "display_name": "base",
   "language": "python",
   "name": "python3"
  },
  "language_info": {
   "codemirror_mode": {
    "name": "ipython",
    "version": 3
   },
   "file_extension": ".py",
   "mimetype": "text/x-python",
   "name": "python",
   "nbconvert_exporter": "python",
   "pygments_lexer": "ipython3",
   "version": "3.11.4"
  },
  "orig_nbformat": 4
 },
 "nbformat": 4,
 "nbformat_minor": 2
}
