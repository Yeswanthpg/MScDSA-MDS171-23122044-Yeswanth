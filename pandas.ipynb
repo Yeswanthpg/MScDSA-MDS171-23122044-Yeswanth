{
 "cells": [
  {
   "cell_type": "code",
   "execution_count": 6,
   "metadata": {},
   "outputs": [
    {
     "name": "stdout",
     "output_type": "stream",
     "text": [
      "Requirement already satisfied: pandas in c:\\users\\yeswa\\appdata\\local\\programs\\python\\python310\\lib\\site-packages (2.1.1)\n",
      "Requirement already satisfied: numpy>=1.22.4 in c:\\users\\yeswa\\appdata\\local\\programs\\python\\python310\\lib\\site-packages (from pandas) (1.26.0)\n",
      "Requirement already satisfied: pytz>=2020.1 in c:\\users\\yeswa\\appdata\\local\\programs\\python\\python310\\lib\\site-packages (from pandas) (2023.3.post1)\n",
      "Requirement already satisfied: tzdata>=2022.1 in c:\\users\\yeswa\\appdata\\local\\programs\\python\\python310\\lib\\site-packages (from pandas) (2023.3)\n",
      "Requirement already satisfied: python-dateutil>=2.8.2 in c:\\users\\yeswa\\appdata\\roaming\\python\\python310\\site-packages (from pandas) (2.8.2)\n",
      "Requirement already satisfied: six>=1.5 in c:\\users\\yeswa\\appdata\\roaming\\python\\python310\\site-packages (from python-dateutil>=2.8.2->pandas) (1.16.0)\n",
      "Note: you may need to restart the kernel to use updated packages.\n"
     ]
    },
    {
     "name": "stderr",
     "output_type": "stream",
     "text": [
      "\n",
      "[notice] A new release of pip available: 22.2.2 -> 23.2.1\n",
      "[notice] To update, run: python.exe -m pip install --upgrade pip\n"
     ]
    }
   ],
   "source": [
    "pip install pandas"
   ]
  },
  {
   "cell_type": "code",
   "execution_count": null,
   "metadata": {},
   "outputs": [],
   "source": []
  },
  {
   "cell_type": "code",
   "execution_count": 7,
   "metadata": {},
   "outputs": [],
   "source": [
    "import pandas as pd"
   ]
  },
  {
   "cell_type": "code",
   "execution_count": 8,
   "metadata": {},
   "outputs": [],
   "source": [
    "student = {\n",
    "    \"name\" : [\"yeswanth\",\"thamizhznbu\",\"sankar\",\"nizam\",\"vikas\",\"arjun\",\"thriveni\"],\n",
    "    \"age\" : [22,24,21,19,20,23,25]\n",
    "}"
   ]
  },
  {
   "cell_type": "code",
   "execution_count": 9,
   "metadata": {},
   "outputs": [
    {
     "name": "stdout",
     "output_type": "stream",
     "text": [
      "{'name': ['yeswanth', 'thamizhznbu', 'sankar', 'nizam', 'vikas', 'arjun', 'thriveni'], 'age': [22, 24, 21, 19, 20, 23, 25]}\n"
     ]
    }
   ],
   "source": [
    "print(student)"
   ]
  },
  {
   "cell_type": "code",
   "execution_count": 10,
   "metadata": {},
   "outputs": [],
   "source": [
    "df=pd.DataFrame(student)"
   ]
  },
  {
   "cell_type": "code",
   "execution_count": 11,
   "metadata": {},
   "outputs": [
    {
     "name": "stdout",
     "output_type": "stream",
     "text": [
      "          name  age\n",
      "0     yeswanth   22\n",
      "1  thamizhznbu   24\n",
      "2       sankar   21\n",
      "3        nizam   19\n",
      "4        vikas   20\n"
     ]
    }
   ],
   "source": [
    "print(df.head())"
   ]
  },
  {
   "cell_type": "code",
   "execution_count": 12,
   "metadata": {},
   "outputs": [
    {
     "data": {
      "text/html": [
       "<div>\n",
       "<style scoped>\n",
       "    .dataframe tbody tr th:only-of-type {\n",
       "        vertical-align: middle;\n",
       "    }\n",
       "\n",
       "    .dataframe tbody tr th {\n",
       "        vertical-align: top;\n",
       "    }\n",
       "\n",
       "    .dataframe thead th {\n",
       "        text-align: right;\n",
       "    }\n",
       "</style>\n",
       "<table border=\"1\" class=\"dataframe\">\n",
       "  <thead>\n",
       "    <tr style=\"text-align: right;\">\n",
       "      <th></th>\n",
       "      <th>name</th>\n",
       "      <th>age</th>\n",
       "    </tr>\n",
       "  </thead>\n",
       "  <tbody>\n",
       "    <tr>\n",
       "      <th>0</th>\n",
       "      <td>yeswanth</td>\n",
       "      <td>22</td>\n",
       "    </tr>\n",
       "    <tr>\n",
       "      <th>1</th>\n",
       "      <td>thamizhznbu</td>\n",
       "      <td>24</td>\n",
       "    </tr>\n",
       "    <tr>\n",
       "      <th>2</th>\n",
       "      <td>sankar</td>\n",
       "      <td>21</td>\n",
       "    </tr>\n",
       "    <tr>\n",
       "      <th>3</th>\n",
       "      <td>nizam</td>\n",
       "      <td>19</td>\n",
       "    </tr>\n",
       "    <tr>\n",
       "      <th>4</th>\n",
       "      <td>vikas</td>\n",
       "      <td>20</td>\n",
       "    </tr>\n",
       "  </tbody>\n",
       "</table>\n",
       "</div>"
      ],
      "text/plain": [
       "          name  age\n",
       "0     yeswanth   22\n",
       "1  thamizhznbu   24\n",
       "2       sankar   21\n",
       "3        nizam   19\n",
       "4        vikas   20"
      ]
     },
     "execution_count": 12,
     "metadata": {},
     "output_type": "execute_result"
    }
   ],
   "source": [
    "df.head()"
   ]
  },
  {
   "cell_type": "code",
   "execution_count": null,
   "metadata": {},
   "outputs": [],
   "source": [
    "pip install pi"
   ]
  },
  {
   "cell_type": "code",
   "execution_count": 13,
   "metadata": {},
   "outputs": [
    {
     "name": "stdout",
     "output_type": "stream",
     "text": [
      "       name  age\n",
      "2    sankar   21\n",
      "3     nizam   19\n",
      "4     vikas   20\n",
      "5     arjun   23\n",
      "6  thriveni   25\n"
     ]
    }
   ],
   "source": [
    "print(df.tail())"
   ]
  },
  {
   "cell_type": "code",
   "execution_count": 14,
   "metadata": {},
   "outputs": [
    {
     "data": {
      "text/html": [
       "<div>\n",
       "<style scoped>\n",
       "    .dataframe tbody tr th:only-of-type {\n",
       "        vertical-align: middle;\n",
       "    }\n",
       "\n",
       "    .dataframe tbody tr th {\n",
       "        vertical-align: top;\n",
       "    }\n",
       "\n",
       "    .dataframe thead th {\n",
       "        text-align: right;\n",
       "    }\n",
       "</style>\n",
       "<table border=\"1\" class=\"dataframe\">\n",
       "  <thead>\n",
       "    <tr style=\"text-align: right;\">\n",
       "      <th></th>\n",
       "      <th>name</th>\n",
       "      <th>age</th>\n",
       "    </tr>\n",
       "  </thead>\n",
       "  <tbody>\n",
       "    <tr>\n",
       "      <th>2</th>\n",
       "      <td>sankar</td>\n",
       "      <td>21</td>\n",
       "    </tr>\n",
       "    <tr>\n",
       "      <th>3</th>\n",
       "      <td>nizam</td>\n",
       "      <td>19</td>\n",
       "    </tr>\n",
       "    <tr>\n",
       "      <th>4</th>\n",
       "      <td>vikas</td>\n",
       "      <td>20</td>\n",
       "    </tr>\n",
       "    <tr>\n",
       "      <th>5</th>\n",
       "      <td>arjun</td>\n",
       "      <td>23</td>\n",
       "    </tr>\n",
       "    <tr>\n",
       "      <th>6</th>\n",
       "      <td>thriveni</td>\n",
       "      <td>25</td>\n",
       "    </tr>\n",
       "  </tbody>\n",
       "</table>\n",
       "</div>"
      ],
      "text/plain": [
       "       name  age\n",
       "2    sankar   21\n",
       "3     nizam   19\n",
       "4     vikas   20\n",
       "5     arjun   23\n",
       "6  thriveni   25"
      ]
     },
     "execution_count": 14,
     "metadata": {},
     "output_type": "execute_result"
    }
   ],
   "source": [
    "df.tail()"
   ]
  },
  {
   "cell_type": "code",
   "execution_count": 15,
   "metadata": {},
   "outputs": [
    {
     "data": {
      "text/html": [
       "<div>\n",
       "<style scoped>\n",
       "    .dataframe tbody tr th:only-of-type {\n",
       "        vertical-align: middle;\n",
       "    }\n",
       "\n",
       "    .dataframe tbody tr th {\n",
       "        vertical-align: top;\n",
       "    }\n",
       "\n",
       "    .dataframe thead th {\n",
       "        text-align: right;\n",
       "    }\n",
       "</style>\n",
       "<table border=\"1\" class=\"dataframe\">\n",
       "  <thead>\n",
       "    <tr style=\"text-align: right;\">\n",
       "      <th></th>\n",
       "      <th>Type</th>\n",
       "      <th>Expense Category</th>\n",
       "      <th>Amount</th>\n",
       "      <th>Description</th>\n",
       "      <th>Date</th>\n",
       "    </tr>\n",
       "  </thead>\n",
       "  <tbody>\n",
       "    <tr>\n",
       "      <th>0</th>\n",
       "      <td>type</td>\n",
       "      <td>catergory</td>\n",
       "      <td>cost</td>\n",
       "      <td>description</td>\n",
       "      <td>date</td>\n",
       "    </tr>\n",
       "    <tr>\n",
       "      <th>1</th>\n",
       "      <td>expense</td>\n",
       "      <td>dining</td>\n",
       "      <td>10</td>\n",
       "      <td>food</td>\n",
       "      <td>01-09-2023</td>\n",
       "    </tr>\n",
       "    <tr>\n",
       "      <th>2</th>\n",
       "      <td>expense</td>\n",
       "      <td>shopping</td>\n",
       "      <td>5</td>\n",
       "      <td>food</td>\n",
       "      <td>02-09-2023</td>\n",
       "    </tr>\n",
       "    <tr>\n",
       "      <th>3</th>\n",
       "      <td>expense</td>\n",
       "      <td>bill</td>\n",
       "      <td>30</td>\n",
       "      <td>electricity</td>\n",
       "      <td>03-09-2023</td>\n",
       "    </tr>\n",
       "    <tr>\n",
       "      <th>4</th>\n",
       "      <td>expense</td>\n",
       "      <td>health</td>\n",
       "      <td>15</td>\n",
       "      <td>medicene</td>\n",
       "      <td>04-09-2023</td>\n",
       "    </tr>\n",
       "    <tr>\n",
       "      <th>5</th>\n",
       "      <td>expense</td>\n",
       "      <td>shopping</td>\n",
       "      <td>90</td>\n",
       "      <td>dress</td>\n",
       "      <td>05-09-2023</td>\n",
       "    </tr>\n",
       "    <tr>\n",
       "      <th>6</th>\n",
       "      <td>expense</td>\n",
       "      <td>health</td>\n",
       "      <td>45</td>\n",
       "      <td>cold</td>\n",
       "      <td>06-09-2023</td>\n",
       "    </tr>\n",
       "    <tr>\n",
       "      <th>7</th>\n",
       "      <td>expense</td>\n",
       "      <td>dining</td>\n",
       "      <td>180</td>\n",
       "      <td>food</td>\n",
       "      <td>07-09-2023</td>\n",
       "    </tr>\n",
       "    <tr>\n",
       "      <th>8</th>\n",
       "      <td>expense</td>\n",
       "      <td>bill</td>\n",
       "      <td>90</td>\n",
       "      <td>water</td>\n",
       "      <td>08-09-2023</td>\n",
       "    </tr>\n",
       "    <tr>\n",
       "      <th>9</th>\n",
       "      <td>expense</td>\n",
       "      <td>health</td>\n",
       "      <td>360</td>\n",
       "      <td>fever</td>\n",
       "      <td>09-09-2023</td>\n",
       "    </tr>\n",
       "    <tr>\n",
       "      <th>10</th>\n",
       "      <td>expense</td>\n",
       "      <td>shopping</td>\n",
       "      <td>180</td>\n",
       "      <td>dress</td>\n",
       "      <td>10-09-2023</td>\n",
       "    </tr>\n",
       "    <tr>\n",
       "      <th>11</th>\n",
       "      <td>expense</td>\n",
       "      <td>health</td>\n",
       "      <td>720</td>\n",
       "      <td>cold</td>\n",
       "      <td>11-09-2023</td>\n",
       "    </tr>\n",
       "    <tr>\n",
       "      <th>12</th>\n",
       "      <td>expense</td>\n",
       "      <td>dining</td>\n",
       "      <td>360</td>\n",
       "      <td>food</td>\n",
       "      <td>12-09-2023</td>\n",
       "    </tr>\n",
       "    <tr>\n",
       "      <th>13</th>\n",
       "      <td>expense</td>\n",
       "      <td>dining</td>\n",
       "      <td>1440</td>\n",
       "      <td>food</td>\n",
       "      <td>13-09-2023</td>\n",
       "    </tr>\n",
       "    <tr>\n",
       "      <th>14</th>\n",
       "      <td>expense</td>\n",
       "      <td>shopping</td>\n",
       "      <td>425</td>\n",
       "      <td>dress</td>\n",
       "      <td>14-09-2023</td>\n",
       "    </tr>\n",
       "    <tr>\n",
       "      <th>15</th>\n",
       "      <td>expense</td>\n",
       "      <td>bill</td>\n",
       "      <td>1505</td>\n",
       "      <td>water</td>\n",
       "      <td>15-09-2023</td>\n",
       "    </tr>\n",
       "    <tr>\n",
       "      <th>16</th>\n",
       "      <td>expense</td>\n",
       "      <td>shopping</td>\n",
       "      <td>490</td>\n",
       "      <td>dress</td>\n",
       "      <td>16-09-2023</td>\n",
       "    </tr>\n",
       "    <tr>\n",
       "      <th>17</th>\n",
       "      <td>expense</td>\n",
       "      <td>health</td>\n",
       "      <td>1570</td>\n",
       "      <td>fever</td>\n",
       "      <td>17-09-2023</td>\n",
       "    </tr>\n",
       "    <tr>\n",
       "      <th>18</th>\n",
       "      <td>expense</td>\n",
       "      <td>bill</td>\n",
       "      <td>555</td>\n",
       "      <td>electricity</td>\n",
       "      <td>18-09-2023</td>\n",
       "    </tr>\n",
       "    <tr>\n",
       "      <th>19</th>\n",
       "      <td>expense</td>\n",
       "      <td>shopping</td>\n",
       "      <td>1635</td>\n",
       "      <td>food</td>\n",
       "      <td>19-09-2023</td>\n",
       "    </tr>\n",
       "    <tr>\n",
       "      <th>20</th>\n",
       "      <td>expense</td>\n",
       "      <td>dining</td>\n",
       "      <td>620</td>\n",
       "      <td>food</td>\n",
       "      <td>20-09-2023</td>\n",
       "    </tr>\n",
       "    <tr>\n",
       "      <th>21</th>\n",
       "      <td>expense</td>\n",
       "      <td>fuel</td>\n",
       "      <td>100</td>\n",
       "      <td>bike fuel</td>\n",
       "      <td>21/09/2023</td>\n",
       "    </tr>\n",
       "  </tbody>\n",
       "</table>\n",
       "</div>"
      ],
      "text/plain": [
       "       Type Expense Category Amount  Description        Date\n",
       "0      type        catergory   cost  description        date\n",
       "1   expense           dining     10         food  01-09-2023\n",
       "2   expense         shopping      5         food  02-09-2023\n",
       "3   expense             bill     30  electricity  03-09-2023\n",
       "4   expense           health     15     medicene  04-09-2023\n",
       "5   expense         shopping     90        dress  05-09-2023\n",
       "6   expense           health     45         cold  06-09-2023\n",
       "7   expense           dining    180         food  07-09-2023\n",
       "8   expense             bill     90        water  08-09-2023\n",
       "9   expense           health    360        fever  09-09-2023\n",
       "10  expense         shopping    180        dress  10-09-2023\n",
       "11  expense           health    720         cold  11-09-2023\n",
       "12  expense           dining    360         food  12-09-2023\n",
       "13  expense           dining   1440         food  13-09-2023\n",
       "14  expense         shopping    425        dress  14-09-2023\n",
       "15  expense             bill   1505        water  15-09-2023\n",
       "16  expense         shopping    490        dress  16-09-2023\n",
       "17  expense           health   1570        fever  17-09-2023\n",
       "18  expense             bill    555  electricity  18-09-2023\n",
       "19  expense         shopping   1635         food  19-09-2023\n",
       "20  expense           dining    620         food  20-09-2023\n",
       "21  expense             fuel    100    bike fuel  21/09/2023"
      ]
     },
     "execution_count": 15,
     "metadata": {},
     "output_type": "execute_result"
    }
   ],
   "source": [
    "pd.read_csv(\"Expense_Income_Tracker.csv\")"
   ]
  },
  {
   "cell_type": "code",
   "execution_count": 16,
   "metadata": {},
   "outputs": [],
   "source": [
    "df = pd.read_csv(\"Expense_Income_Tracker.csv\")"
   ]
  },
  {
   "cell_type": "code",
   "execution_count": 17,
   "metadata": {},
   "outputs": [
    {
     "data": {
      "text/plain": [
       "Index(['Type', 'Expense Category', 'Amount', 'Description', 'Date'], dtype='object')"
      ]
     },
     "execution_count": 17,
     "metadata": {},
     "output_type": "execute_result"
    }
   ],
   "source": [
    "df.columns"
   ]
  },
  {
   "cell_type": "code",
   "execution_count": 18,
   "metadata": {},
   "outputs": [
    {
     "data": {
      "text/html": [
       "<div>\n",
       "<style scoped>\n",
       "    .dataframe tbody tr th:only-of-type {\n",
       "        vertical-align: middle;\n",
       "    }\n",
       "\n",
       "    .dataframe tbody tr th {\n",
       "        vertical-align: top;\n",
       "    }\n",
       "\n",
       "    .dataframe thead th {\n",
       "        text-align: right;\n",
       "    }\n",
       "</style>\n",
       "<table border=\"1\" class=\"dataframe\">\n",
       "  <thead>\n",
       "    <tr style=\"text-align: right;\">\n",
       "      <th></th>\n",
       "      <th>Type</th>\n",
       "      <th>Expense Category</th>\n",
       "      <th>Amount</th>\n",
       "      <th>Description</th>\n",
       "      <th>Date</th>\n",
       "    </tr>\n",
       "  </thead>\n",
       "  <tbody>\n",
       "    <tr>\n",
       "      <th>0</th>\n",
       "      <td>type</td>\n",
       "      <td>catergory</td>\n",
       "      <td>cost</td>\n",
       "      <td>description</td>\n",
       "      <td>date</td>\n",
       "    </tr>\n",
       "    <tr>\n",
       "      <th>1</th>\n",
       "      <td>expense</td>\n",
       "      <td>dining</td>\n",
       "      <td>10</td>\n",
       "      <td>food</td>\n",
       "      <td>01-09-2023</td>\n",
       "    </tr>\n",
       "    <tr>\n",
       "      <th>2</th>\n",
       "      <td>expense</td>\n",
       "      <td>shopping</td>\n",
       "      <td>5</td>\n",
       "      <td>food</td>\n",
       "      <td>02-09-2023</td>\n",
       "    </tr>\n",
       "  </tbody>\n",
       "</table>\n",
       "</div>"
      ],
      "text/plain": [
       "      Type Expense Category Amount  Description        Date\n",
       "0     type        catergory   cost  description        date\n",
       "1  expense           dining     10         food  01-09-2023\n",
       "2  expense         shopping      5         food  02-09-2023"
      ]
     },
     "execution_count": 18,
     "metadata": {},
     "output_type": "execute_result"
    }
   ],
   "source": [
    "df.head(3)"
   ]
  },
  {
   "cell_type": "code",
   "execution_count": 19,
   "metadata": {},
   "outputs": [
    {
     "data": {
      "text/html": [
       "<div>\n",
       "<style scoped>\n",
       "    .dataframe tbody tr th:only-of-type {\n",
       "        vertical-align: middle;\n",
       "    }\n",
       "\n",
       "    .dataframe tbody tr th {\n",
       "        vertical-align: top;\n",
       "    }\n",
       "\n",
       "    .dataframe thead th {\n",
       "        text-align: right;\n",
       "    }\n",
       "</style>\n",
       "<table border=\"1\" class=\"dataframe\">\n",
       "  <thead>\n",
       "    <tr style=\"text-align: right;\">\n",
       "      <th></th>\n",
       "      <th>Type</th>\n",
       "      <th>Expense Category</th>\n",
       "      <th>Amount</th>\n",
       "      <th>Description</th>\n",
       "      <th>Date</th>\n",
       "    </tr>\n",
       "  </thead>\n",
       "  <tbody>\n",
       "    <tr>\n",
       "      <th>19</th>\n",
       "      <td>expense</td>\n",
       "      <td>shopping</td>\n",
       "      <td>1635</td>\n",
       "      <td>food</td>\n",
       "      <td>19-09-2023</td>\n",
       "    </tr>\n",
       "    <tr>\n",
       "      <th>20</th>\n",
       "      <td>expense</td>\n",
       "      <td>dining</td>\n",
       "      <td>620</td>\n",
       "      <td>food</td>\n",
       "      <td>20-09-2023</td>\n",
       "    </tr>\n",
       "    <tr>\n",
       "      <th>21</th>\n",
       "      <td>expense</td>\n",
       "      <td>fuel</td>\n",
       "      <td>100</td>\n",
       "      <td>bike fuel</td>\n",
       "      <td>21/09/2023</td>\n",
       "    </tr>\n",
       "  </tbody>\n",
       "</table>\n",
       "</div>"
      ],
      "text/plain": [
       "       Type Expense Category Amount Description        Date\n",
       "19  expense         shopping   1635        food  19-09-2023\n",
       "20  expense           dining    620        food  20-09-2023\n",
       "21  expense             fuel    100   bike fuel  21/09/2023"
      ]
     },
     "execution_count": 19,
     "metadata": {},
     "output_type": "execute_result"
    }
   ],
   "source": [
    "df.tail(3)"
   ]
  },
  {
   "cell_type": "code",
   "execution_count": 20,
   "metadata": {},
   "outputs": [
    {
     "data": {
      "text/html": [
       "<div>\n",
       "<style scoped>\n",
       "    .dataframe tbody tr th:only-of-type {\n",
       "        vertical-align: middle;\n",
       "    }\n",
       "\n",
       "    .dataframe tbody tr th {\n",
       "        vertical-align: top;\n",
       "    }\n",
       "\n",
       "    .dataframe thead th {\n",
       "        text-align: right;\n",
       "    }\n",
       "</style>\n",
       "<table border=\"1\" class=\"dataframe\">\n",
       "  <thead>\n",
       "    <tr style=\"text-align: right;\">\n",
       "      <th></th>\n",
       "      <th>Type</th>\n",
       "      <th>Expense Category</th>\n",
       "      <th>Amount</th>\n",
       "      <th>Description</th>\n",
       "      <th>Date</th>\n",
       "    </tr>\n",
       "  </thead>\n",
       "  <tbody>\n",
       "    <tr>\n",
       "      <th>count</th>\n",
       "      <td>22</td>\n",
       "      <td>22</td>\n",
       "      <td>22</td>\n",
       "      <td>22</td>\n",
       "      <td>22</td>\n",
       "    </tr>\n",
       "    <tr>\n",
       "      <th>unique</th>\n",
       "      <td>2</td>\n",
       "      <td>6</td>\n",
       "      <td>19</td>\n",
       "      <td>9</td>\n",
       "      <td>22</td>\n",
       "    </tr>\n",
       "    <tr>\n",
       "      <th>top</th>\n",
       "      <td>expense</td>\n",
       "      <td>shopping</td>\n",
       "      <td>90</td>\n",
       "      <td>food</td>\n",
       "      <td>date</td>\n",
       "    </tr>\n",
       "    <tr>\n",
       "      <th>freq</th>\n",
       "      <td>21</td>\n",
       "      <td>6</td>\n",
       "      <td>2</td>\n",
       "      <td>7</td>\n",
       "      <td>1</td>\n",
       "    </tr>\n",
       "  </tbody>\n",
       "</table>\n",
       "</div>"
      ],
      "text/plain": [
       "           Type Expense Category Amount Description  Date\n",
       "count        22               22     22          22    22\n",
       "unique        2                6     19           9    22\n",
       "top     expense         shopping     90        food  date\n",
       "freq         21                6      2           7     1"
      ]
     },
     "execution_count": 20,
     "metadata": {},
     "output_type": "execute_result"
    }
   ],
   "source": [
    "df.describe()"
   ]
  },
  {
   "cell_type": "code",
   "execution_count": 21,
   "metadata": {},
   "outputs": [
    {
     "name": "stdout",
     "output_type": "stream",
     "text": [
      "Requirement already satisfied: matplotlib in c:\\users\\yeswa\\appdata\\local\\programs\\python\\python310\\lib\\site-packages (3.8.0)\n",
      "Requirement already satisfied: numpy<2,>=1.21 in c:\\users\\yeswa\\appdata\\local\\programs\\python\\python310\\lib\\site-packages (from matplotlib) (1.26.0)\n",
      "Requirement already satisfied: contourpy>=1.0.1 in c:\\users\\yeswa\\appdata\\local\\programs\\python\\python310\\lib\\site-packages (from matplotlib) (1.1.1)\n",
      "Requirement already satisfied: packaging>=20.0 in c:\\users\\yeswa\\appdata\\roaming\\python\\python310\\site-packages (from matplotlib) (23.1)\n",
      "Requirement already satisfied: python-dateutil>=2.7 in c:\\users\\yeswa\\appdata\\roaming\\python\\python310\\site-packages (from matplotlib) (2.8.2)\n",
      "Requirement already satisfied: kiwisolver>=1.0.1 in c:\\users\\yeswa\\appdata\\local\\programs\\python\\python310\\lib\\site-packages (from matplotlib) (1.4.5)\n",
      "Requirement already satisfied: pyparsing>=2.3.1 in c:\\users\\yeswa\\appdata\\local\\programs\\python\\python310\\lib\\site-packages (from matplotlib) (3.1.1)\n",
      "Requirement already satisfied: fonttools>=4.22.0 in c:\\users\\yeswa\\appdata\\local\\programs\\python\\python310\\lib\\site-packages (from matplotlib) (4.43.1)\n",
      "Requirement already satisfied: cycler>=0.10 in c:\\users\\yeswa\\appdata\\local\\programs\\python\\python310\\lib\\site-packages (from matplotlib) (0.12.1)\n",
      "Requirement already satisfied: pillow>=6.2.0 in c:\\users\\yeswa\\appdata\\local\\programs\\python\\python310\\lib\\site-packages (from matplotlib) (10.0.1)\n",
      "Requirement already satisfied: six>=1.5 in c:\\users\\yeswa\\appdata\\roaming\\python\\python310\\site-packages (from python-dateutil>=2.7->matplotlib) (1.16.0)\n",
      "Note: you may need to restart the kernel to use updated packages.\n"
     ]
    },
    {
     "name": "stderr",
     "output_type": "stream",
     "text": [
      "\n",
      "[notice] A new release of pip available: 22.2.2 -> 23.2.1\n",
      "[notice] To update, run: python.exe -m pip install --upgrade pip\n"
     ]
    }
   ],
   "source": [
    "pip install matplotlib"
   ]
  },
  {
   "cell_type": "code",
   "execution_count": 22,
   "metadata": {},
   "outputs": [],
   "source": [
    "import tkinter as tk\n",
    "import time\n",
    "\n",
    "def update_clock():\n",
    "    current_time = time.strftime(\"%H:%M:%S\")\n",
    "    clock_label.config(text=current_time)\n",
    "    root.after(1000, update_clock)  # Update the clock every 1000 milliseconds (1 second)\n",
    "\n",
    "root = tk.Tk()\n",
    "root.title(\"Digital Clock\")\n",
    "\n",
    "clock_label = tk.Label(root, font=(\"Arial\", 48), bg=\"black\", fg=\"red\")\n",
    "clock_label.pack(padx=20, pady=20)\n",
    "\n",
    "update_clock()  # Start the clock update function\n",
    "\n",
    "root.mainloop()\n"
   ]
  },
  {
   "cell_type": "code",
   "execution_count": 23,
   "metadata": {},
   "outputs": [],
   "source": [
    "import tkinter as tk\n",
    "from datetime import datetime\n",
    "\n",
    "def update_clock_and_calendar():\n",
    "    current_time = datetime.now().strftime(\"%H:%M:%S\")\n",
    "    current_date = datetime.now().strftime(\"%Y-%m-%d\")\n",
    "    \n",
    "    clock_label.config(text=current_time)\n",
    "    calendar_label.config(text=current_date)\n",
    "    \n",
    "    root.after(1000, update_clock_and_calendar)\n",
    "\n",
    "root = tk.Tk()\n",
    "root.title(\"Digital Clock and Calendar\")\n",
    "\n",
    "clock_label = tk.Label(root, font=(\"Helvetica\", 48), bg=\"black\", fg=\"red\")\n",
    "clock_label.pack(padx=20, pady=10)\n",
    "\n",
    "calendar_label = tk.Label(root, font=(\"Helvetica\", 24), bg=\"black\", fg=\"white\")\n",
    "calendar_label.pack(padx=20, pady=10)\n",
    "\n",
    "update_clock_and_calendar()\n",
    "\n",
    "root.mainloop()\n"
   ]
  },
  {
   "cell_type": "code",
   "execution_count": 24,
   "metadata": {},
   "outputs": [
    {
     "data": {
      "text/plain": [
       "<Axes: >"
      ]
     },
     "execution_count": 24,
     "metadata": {},
     "output_type": "execute_result"
    },
    {
     "data": {
      "image/png": "[encoded data removed]",
      "text/plain": [
       "<Figure size 640x480 with 1 Axes>"
      ]
     },
     "metadata": {},
     "output_type": "display_data"
    }
   ],
   "source": [
    "df[\"Amount\"].hist()\n"
   ]
  },
  {
   "cell_type": "code",
   "execution_count": 25,
   "metadata": {},
   "outputs": [],
   "source": [
    "#class pandas_yeswanth:\n",
    "# def __init__(): stores the data\n",
    " # read csv(): reads a csv file\n",
    "#head(): print the top n rows\n",
    "#tail(): print the bottom n rows\n",
    "    \n"
   ]
  },
  {
   "cell_type": "code",
   "execution_count": 26,
   "metadata": {},
   "outputs": [],
   "source": [
    "class pandas_yeswanth:\n",
    " def __init__(self):\n",
    "    self.data = None\n",
    "\n",
    " def read_csv(self, filename):\n",
    "       \n",
    "        self.data = pd.read_csv(filename)\n",
    "\n",
    " def head(self, n=5):\n",
    "        if self.data is not None:\n",
    "            print(self.data.head(n))\n",
    "        else:\n",
    "            print(\"No data has been loaded yet.\")\n",
    "\n",
    " def tail(self, n=5):\n",
    "        if self.data is not None:\n",
    "            print(self.data.tail(n))\n",
    "        else:\n",
    "            print(\"No data has been loaded yet.\")\n"
   ]
  },
  {
   "cell_type": "code",
   "execution_count": 27,
   "metadata": {},
   "outputs": [
    {
     "name": "stdout",
     "output_type": "stream",
     "text": [
      "      Type Expense Category Amount  Description        Date\n",
      "0     type        catergory   cost  description        date\n",
      "1  expense           dining     10         food  01-09-2023\n",
      "2  expense         shopping      5         food  02-09-2023\n",
      "3  expense             bill     30  electricity  03-09-2023\n",
      "4  expense           health     15     medicene  04-09-2023\n",
      "       Type Expense Category Amount  Description        Date\n",
      "18  expense             bill    555  electricity  18-09-2023\n",
      "19  expense         shopping   1635         food  19-09-2023\n",
      "20  expense           dining    620         food  20-09-2023\n",
      "21  expense             fuel    100    bike fuel  21/09/2023\n",
      "Index(['Type', 'Expense Category', 'Amount', 'Description', 'Date'], dtype='object')\n"
     ]
    }
   ],
   "source": [
    "# Create an instance of the class\n",
    "pandas_instance = pandas_yeswanth()\n",
    "\n",
    "# Read a CSV file\n",
    "pandas_instance.read_csv(\"Expense_Income_Tracker.csv\")\n",
    "\n",
    "# Display the top 3 rows\n",
    "pandas_instance.head(5)\n",
    "\n",
    "# Display the bottom 2 rows\n",
    "pandas_instance.tail(4)\n",
    "print(df.columns)"
   ]
  },
  {
   "cell_type": "code",
   "execution_count": 28,
   "metadata": {},
   "outputs": [
    {
     "ename": "SyntaxError",
     "evalue": "expected ':' (4105473343.py, line 15)",
     "output_type": "error",
     "traceback": [
      "\u001b[1;36m  Cell \u001b[1;32mIn[28], line 15\u001b[1;36m\u001b[0m\n\u001b[1;33m    except S\u001b[0m\n\u001b[1;37m            ^\u001b[0m\n\u001b[1;31mSyntaxError\u001b[0m\u001b[1;31m:\u001b[0m expected ':'\n"
     ]
    }
   ],
   "source": [
    "import csv\n",
    "from statistics import mean, median, mode\n",
    "\n",
    "# Function to calculate the mean, median, and mode for a column\n",
    "def calculate_stats(column_data):\n",
    "    # Calculate mean\n",
    "    mean_value = mean(column_data)\n",
    "\n",
    "    # Calculate median\n",
    "    median_value = median(column_data)\n",
    "\n",
    "    # Calculate mode\n",
    "    try:\n",
    "        mode_value = mode(column_data)\n",
    "    except S\n",
    "        mode_value = \"No unique mode found\"\n",
    "\n",
    "    return mean_value, median_value, mode_value\n",
    "\n",
    "# Function to read CSV file and extract a column\n",
    "def read_csv_and_extract_column(file_path, column_name):\n",
    "    column_data = []\n",
    "    with open(file_path, mode='r', newline='') as file:\n",
    "        csv_reader = csv.DictReader(file)\n",
    "        for row in csv_reader:\n",
    "            try:\n",
    "                value = float(row[column_name])\n",
    "                column_data.append(value)\n",
    "            except (ValueError, KeyError):\n",
    "                pass  # Ignore non-numeric or missing values\n",
    "\n",
    "    if not column_data:\n",
    "        raise ValueError(f\"No valid numeric data found in column '{column_name}'\")\n",
    "\n",
    "    return column_data\n",
    "\n",
    "# Main program\n",
    "try:\n",
    "    csv_file = input(\"Enter the CSV file path: \")\n",
    "    column_name = input(\"Enter the column name for which you want to calculate stats: \")\n",
    "\n",
    "    column_data = read_csv_and_extract_column(csv_file, column_name)\n",
    "\n",
    "    mean_val, median_val, mode_val = calculate_stats(column_data)\n",
    "\n",
    "    print(f\"Mean of '{column_name}': {mean_val}\")\n",
    "    print(f\"Median of '{column_name}': {median_val}\")\n",
    "    print(f\"Mode of '{column_name}': {mode_val}\")\n",
    "except FileNotFoundError:\n",
    "    print(f\"File not found: {csv_file}\")\n",
    "except ValueError as ve:\n",
    "    print(str(ve))\n",
    "except Exception as e:\n",
    "    print(f\"An error occurred: {str(e)}\")\n"
   ]
  },
  {
   "cell_type": "code",
   "execution_count": null,
   "metadata": {},
   "outputs": [
    {
     "name": "stdout",
     "output_type": "stream",
     "text": [
      "Collecting pygame\n",
      "  Downloading pygame-2.5.2-cp310-cp310-win_amd64.whl (10.8 MB)\n",
      "     -------------------------------------- 10.8/10.8 MB 472.3 kB/s eta 0:00:00\n",
      "Installing collected packages: pygame\n",
      "Successfully installed pygame-2.5.2\n",
      "Note: you may need to restart the kernel to use updated packages.\n"
     ]
    },
    {
     "name": "stderr",
     "output_type": "stream",
     "text": [
      "\n",
      "[notice] A new release of pip available: 22.2.2 -> 23.2.1\n",
      "[notice] To update, run: python.exe -m pip install --upgrade pip\n"
     ]
    }
   ],
   "source": [
    "pip install pygame\n"
   ]
  },
  {
   "cell_type": "code",
   "execution_count": null,
   "metadata": {},
   "outputs": [
    {
     "ename": "SystemExit",
     "evalue": "",
     "output_type": "error",
     "traceback": [
      "An exception has occurred, use %tb to see the full traceback.\n",
      "\u001b[1;31mSystemExit\u001b[0m\n"
     ]
    }
   ],
   "source": [
    "import pygame\n",
    "import sys\n",
    "\n",
    "# Initialize pygame\n",
    "pygame.init()\n",
    "\n",
    "# Constants for screen dimensions\n",
    "WIDTH, HEIGHT = 800, 400\n",
    "\n",
    "# Colors\n",
    "WHITE = (255, 255, 255)\n",
    "GRAY = (150, 150, 150)\n",
    "\n",
    "# Car attributes\n",
    "car_width = 100\n",
    "car_height = 50\n",
    "car_x = (WIDTH - car_width) // 2\n",
    "car_y = HEIGHT - car_height - 20\n",
    "car_speed = 5\n",
    "\n",
    "# Create the screen\n",
    "screen = pygame.display.set_mode((WIDTH, HEIGHT))\n",
    "pygame.display.set_caption(\"Moving Car\")\n",
    "\n",
    "clock = pygame.time.Clock()\n",
    "\n",
    "def car(x, y):\n",
    "    pygame.draw.rect(screen, GRAY, (x, y, car_width, car_height))\n",
    "    pygame.draw.rect(screen, GRAY, (x + 20, y - 20, 60, 20))\n",
    "    pygame.draw.rect(screen, (0, 0, 0), (x + 25, y - 15, 10, 10))\n",
    "    pygame.draw.rect(screen, (0, 0, 0), (x + 65, y - 15, 10, 10))\n",
    "\n",
    "car_x_change = 0\n",
    "\n",
    "running = True\n",
    "while running:\n",
    "    for event in pygame.event.get():\n",
    "        if event.type == pygame.QUIT:\n",
    "            running = False\n",
    "\n",
    "        # Check for arrow key events to move the car\n",
    "        if event.type == pygame.KEYDOWN:\n",
    "            if event.key == pygame.K_LEFT:\n",
    "                car_x_change = -car_speed\n",
    "            if event.key == pygame.K_RIGHT:\n",
    "                car_x_change = car_speed\n",
    "\n",
    "        if event.type == pygame.KEYUP:\n",
    "            if event.key == pygame.K_LEFT or event.key == pygame.K_RIGHT:\n",
    "                car_x_change = 0\n",
    "\n",
    "    # Update car position\n",
    "    car_x += car_x_change\n",
    "\n",
    "    # Fill the screen with white\n",
    "    screen.fill(WHITE)\n",
    "\n",
    "    # Draw the car\n",
    "    car(car_x, car_y)\n",
    "\n",
    "    # Update the display\n",
    "    pygame.display.update()\n",
    "\n",
    "    # Limit the frame rate\n",
    "    clock.tick(60)\n",
    "\n",
    "# Quit the game\n",
    "pygame.quit()\n",
    "sys.exit()\n"
   ]
  },
  {
   "cell_type": "code",
   "execution_count": null,
   "metadata": {},
   "outputs": [
    {
     "ename": "TclError",
     "evalue": "invalid command name \".!canvas\"",
     "output_type": "error",
     "traceback": [
      "\u001b[1;31m---------------------------------------------------------------------------\u001b[0m",
      "\u001b[1;31mTclError\u001b[0m                                  Traceback (most recent call last)",
      "\u001b[1;32mc:\\Users\\yeswa\\MScDSA-MDS171-23122044-Yeswanth\\pandas.ipynb Cell 27\u001b[0m line \u001b[0;36m2\n\u001b[0;32m     <a href='vscode-notebook-cell:/c%3A/Users/yeswa/MScDSA-MDS171-23122044-Yeswanth/pandas.ipynb#X35sZmlsZQ%3D%3D?line=21'>22</a>\u001b[0m rainbow\u001b[39m.\u001b[39mfillcolor(color)\n\u001b[0;32m     <a href='vscode-notebook-cell:/c%3A/Users/yeswa/MScDSA-MDS171-23122044-Yeswanth/pandas.ipynb#X35sZmlsZQ%3D%3D?line=22'>23</a>\u001b[0m rainbow\u001b[39m.\u001b[39mbegin_fill()\n\u001b[1;32m---> <a href='vscode-notebook-cell:/c%3A/Users/yeswa/MScDSA-MDS171-23122044-Yeswanth/pandas.ipynb#X35sZmlsZQ%3D%3D?line=23'>24</a>\u001b[0m rainbow\u001b[39m.\u001b[39;49mcircle(radius)\n\u001b[0;32m     <a href='vscode-notebook-cell:/c%3A/Users/yeswa/MScDSA-MDS171-23122044-Yeswanth/pandas.ipynb#X35sZmlsZQ%3D%3D?line=24'>25</a>\u001b[0m radius \u001b[39m-\u001b[39m\u001b[39m=\u001b[39m \u001b[39m10\u001b[39m  \u001b[39m# Reduce the radius for each arc\u001b[39;00m\n\u001b[0;32m     <a href='vscode-notebook-cell:/c%3A/Users/yeswa/MScDSA-MDS171-23122044-Yeswanth/pandas.ipynb#X35sZmlsZQ%3D%3D?line=25'>26</a>\u001b[0m rainbow\u001b[39m.\u001b[39mend_fill()\n",
      "File \u001b[1;32mc:\\Users\\yeswa\\AppData\\Local\\Programs\\Python\\Python310\\lib\\turtle.py:1992\u001b[0m, in \u001b[0;36mTNavigator.circle\u001b[1;34m(self, radius, extent, steps)\u001b[0m\n\u001b[0;32m   1990\u001b[0m \u001b[39mfor\u001b[39;00m i \u001b[39min\u001b[39;00m \u001b[39mrange\u001b[39m(steps):\n\u001b[0;32m   1991\u001b[0m     \u001b[39mself\u001b[39m\u001b[39m.\u001b[39mspeed(speed)\n\u001b[1;32m-> 1992\u001b[0m     \u001b[39mself\u001b[39;49m\u001b[39m.\u001b[39;49m_go(l)\n\u001b[0;32m   1993\u001b[0m     \u001b[39mself\u001b[39m\u001b[39m.\u001b[39mspeed(\u001b[39m0\u001b[39m)\n\u001b[0;32m   1994\u001b[0m     \u001b[39mself\u001b[39m\u001b[39m.\u001b[39m_rotate(w)\n",
      "File \u001b[1;32mc:\\Users\\yeswa\\AppData\\Local\\Programs\\Python\\Python310\\lib\\turtle.py:1606\u001b[0m, in \u001b[0;36mTNavigator._go\u001b[1;34m(self, distance)\u001b[0m\n\u001b[0;32m   1604\u001b[0m \u001b[39m\u001b[39m\u001b[39m\"\"\"move turtle forward by specified distance\"\"\"\u001b[39;00m\n\u001b[0;32m   1605\u001b[0m ende \u001b[39m=\u001b[39m \u001b[39mself\u001b[39m\u001b[39m.\u001b[39m_position \u001b[39m+\u001b[39m \u001b[39mself\u001b[39m\u001b[39m.\u001b[39m_orient \u001b[39m*\u001b[39m distance\n\u001b[1;32m-> 1606\u001b[0m \u001b[39mself\u001b[39;49m\u001b[39m.\u001b[39;49m_goto(ende)\n",
      "File \u001b[1;32mc:\\Users\\yeswa\\AppData\\Local\\Programs\\Python\\Python310\\lib\\turtle.py:3160\u001b[0m, in \u001b[0;36mRawTurtle._goto\u001b[1;34m(self, end)\u001b[0m\n\u001b[0;32m   3152\u001b[0m go_modes \u001b[39m=\u001b[39m ( \u001b[39mself\u001b[39m\u001b[39m.\u001b[39m_drawing,\n\u001b[0;32m   3153\u001b[0m              \u001b[39mself\u001b[39m\u001b[39m.\u001b[39m_pencolor,\n\u001b[0;32m   3154\u001b[0m              \u001b[39mself\u001b[39m\u001b[39m.\u001b[39m_pensize,\n\u001b[0;32m   3155\u001b[0m              \u001b[39misinstance\u001b[39m(\u001b[39mself\u001b[39m\u001b[39m.\u001b[39m_fillpath, \u001b[39mlist\u001b[39m))\n\u001b[0;32m   3156\u001b[0m screen \u001b[39m=\u001b[39m \u001b[39mself\u001b[39m\u001b[39m.\u001b[39mscreen\n\u001b[0;32m   3157\u001b[0m undo_entry \u001b[39m=\u001b[39m (\u001b[39m\"\u001b[39m\u001b[39mgo\u001b[39m\u001b[39m\"\u001b[39m, \u001b[39mself\u001b[39m\u001b[39m.\u001b[39m_position, end, go_modes,\n\u001b[0;32m   3158\u001b[0m               (\u001b[39mself\u001b[39m\u001b[39m.\u001b[39mcurrentLineItem,\n\u001b[0;32m   3159\u001b[0m               \u001b[39mself\u001b[39m\u001b[39m.\u001b[39mcurrentLine[:],\n\u001b[1;32m-> 3160\u001b[0m               screen\u001b[39m.\u001b[39;49m_pointlist(\u001b[39mself\u001b[39;49m\u001b[39m.\u001b[39;49mcurrentLineItem),\n\u001b[0;32m   3161\u001b[0m               \u001b[39mself\u001b[39m\u001b[39m.\u001b[39mitems[:])\n\u001b[0;32m   3162\u001b[0m               )\n\u001b[0;32m   3163\u001b[0m \u001b[39mif\u001b[39;00m \u001b[39mself\u001b[39m\u001b[39m.\u001b[39mundobuffer:\n\u001b[0;32m   3164\u001b[0m     \u001b[39mself\u001b[39m\u001b[39m.\u001b[39mundobuffer\u001b[39m.\u001b[39mpush(undo_entry)\n",
      "File \u001b[1;32mc:\\Users\\yeswa\\AppData\\Local\\Programs\\Python\\Python310\\lib\\turtle.py:754\u001b[0m, in \u001b[0;36mTurtleScreenBase._pointlist\u001b[1;34m(self, item)\u001b[0m\n\u001b[0;32m    746\u001b[0m \u001b[39mdef\u001b[39;00m \u001b[39m_pointlist\u001b[39m(\u001b[39mself\u001b[39m, item):\n\u001b[0;32m    747\u001b[0m \u001b[39m    \u001b[39m\u001b[39m\"\"\"returns list of coordinate-pairs of points of item\u001b[39;00m\n\u001b[0;32m    748\u001b[0m \u001b[39m    Example (for insiders):\u001b[39;00m\n\u001b[0;32m    749\u001b[0m \u001b[39m    >>> from turtle import *\u001b[39;00m\n\u001b[1;32m   (...)\u001b[0m\n\u001b[0;32m    752\u001b[0m \u001b[39m    (9.9999999999999982, 0.0)]\u001b[39;00m\n\u001b[0;32m    753\u001b[0m \u001b[39m    >>> \"\"\"\u001b[39;00m\n\u001b[1;32m--> 754\u001b[0m     cl \u001b[39m=\u001b[39m \u001b[39mself\u001b[39;49m\u001b[39m.\u001b[39;49mcv\u001b[39m.\u001b[39;49mcoords(item)\n\u001b[0;32m    755\u001b[0m     pl \u001b[39m=\u001b[39m [(cl[i], \u001b[39m-\u001b[39mcl[i\u001b[39m+\u001b[39m\u001b[39m1\u001b[39m]) \u001b[39mfor\u001b[39;00m i \u001b[39min\u001b[39;00m \u001b[39mrange\u001b[39m(\u001b[39m0\u001b[39m, \u001b[39mlen\u001b[39m(cl), \u001b[39m2\u001b[39m)]\n\u001b[0;32m    756\u001b[0m     \u001b[39mreturn\u001b[39;00m  pl\n",
      "File \u001b[1;32m<string>:1\u001b[0m, in \u001b[0;36mcoords\u001b[1;34m(self, *args, **kw)\u001b[0m\n",
      "File \u001b[1;32mc:\\Users\\yeswa\\AppData\\Local\\Programs\\Python\\Python310\\lib\\tkinter\\__init__.py:2795\u001b[0m, in \u001b[0;36mCanvas.coords\u001b[1;34m(self, *args)\u001b[0m\n\u001b[0;32m   2791\u001b[0m \u001b[39m\u001b[39m\u001b[39m\"\"\"Return a list of coordinates for the item given in ARGS.\"\"\"\u001b[39;00m\n\u001b[0;32m   2792\u001b[0m \u001b[39m# XXX Should use _flatten on args\u001b[39;00m\n\u001b[0;32m   2793\u001b[0m \u001b[39mreturn\u001b[39;00m [\u001b[39mself\u001b[39m\u001b[39m.\u001b[39mtk\u001b[39m.\u001b[39mgetdouble(x) \u001b[39mfor\u001b[39;00m x \u001b[39min\u001b[39;00m\n\u001b[0;32m   2794\u001b[0m                    \u001b[39mself\u001b[39m\u001b[39m.\u001b[39mtk\u001b[39m.\u001b[39msplitlist(\n\u001b[1;32m-> 2795\u001b[0m            \u001b[39mself\u001b[39;49m\u001b[39m.\u001b[39;49mtk\u001b[39m.\u001b[39;49mcall((\u001b[39mself\u001b[39;49m\u001b[39m.\u001b[39;49m_w, \u001b[39m'\u001b[39;49m\u001b[39mcoords\u001b[39;49m\u001b[39m'\u001b[39;49m) \u001b[39m+\u001b[39;49m args))]\n",
      "\u001b[1;31mTclError\u001b[0m: invalid command name \".!canvas\""
     ]
    }
   ],
   "source": [
    "import turtle as t\n",
    "\n",
    "# Set up the turtle screen\n",
    "screen = t.Screen()\n",
    "screen.setup(width=500, height=500)\n",
    "screen.bgcolor(\"light blue\")\n",
    "\n",
    "# Create a turtle for drawing the rainbow\n",
    "rainbow = t.Turtle()\n",
    "rainbow.penup()\n",
    "rainbow.setpos(0, -180)\n",
    "rainbow.pendown()\n",
    "\n",
    "# Define rainbow colors\n",
    "colors = ['red', 'orange', 'yellow', 'green', 'blue', 'purple', 'violet']\n",
    "\n",
    "# Set the radius of the rainbow's arcs\n",
    "radius = 60\n",
    "\n",
    "# Draw the rainbow\n",
    "for color in colors:\n",
    "    rainbow.fillcolor(color)\n",
    "    rainbow.begin_fill()\n",
    "    rainbow.circle(radius)\n",
    "    radius -= 10  # Reduce the radius for each arc\n",
    "    rainbow.end_fill()\n",
    "\n",
    "# Hide the turtle\n",
    "rainbow.hideturtle()\n",
    "\n",
    "# Close the window when clicked\n",
    "screen.exitonclick()\n"
   ]
  },
  {
   "cell_type": "code",
   "execution_count": 35,
   "metadata": {},
   "outputs": [
    {
     "ename": "AttributeError",
     "evalue": "'pandas_yeswanth' object has no attribute 'data_Dict'",
     "output_type": "error",
     "traceback": [
      "\u001b[1;31m---------------------------------------------------------------------------\u001b[0m",
      "\u001b[1;31mAttributeError\u001b[0m                            Traceback (most recent call last)",
      "\u001b[1;32mc:\\Users\\yeswa\\MScDSA-MDS171-23122044-Yeswanth\\pandas.ipynb Cell 28\u001b[0m line \u001b[0;36m4\n\u001b[0;32m     <a href='vscode-notebook-cell:/c%3A/Users/yeswa/MScDSA-MDS171-23122044-Yeswanth/pandas.ipynb#X36sZmlsZQ%3D%3D?line=43'>44</a>\u001b[0m         \u001b[39mprint\u001b[39m(\u001b[39m\"\u001b[39m\u001b[39mMedian:\u001b[39m\u001b[39m\"\u001b[39m,num[median])\n\u001b[0;32m     <a href='vscode-notebook-cell:/c%3A/Users/yeswa/MScDSA-MDS171-23122044-Yeswanth/pandas.ipynb#X36sZmlsZQ%3D%3D?line=45'>46</a>\u001b[0m obj\u001b[39m=\u001b[39mpandas_yeswanth()\n\u001b[1;32m---> <a href='vscode-notebook-cell:/c%3A/Users/yeswa/MScDSA-MDS171-23122044-Yeswanth/pandas.ipynb#X36sZmlsZQ%3D%3D?line=46'>47</a>\u001b[0m obj\u001b[39m.\u001b[39;49mread_CSV(\u001b[39m\"\u001b[39;49m\u001b[39mdata.csv\u001b[39;49m\u001b[39m\"\u001b[39;49m)\n\u001b[0;32m     <a href='vscode-notebook-cell:/c%3A/Users/yeswa/MScDSA-MDS171-23122044-Yeswanth/pandas.ipynb#X36sZmlsZQ%3D%3D?line=47'>48</a>\u001b[0m \u001b[39m#obj.head(3)\u001b[39;00m\n\u001b[0;32m     <a href='vscode-notebook-cell:/c%3A/Users/yeswa/MScDSA-MDS171-23122044-Yeswanth/pandas.ipynb#X36sZmlsZQ%3D%3D?line=48'>49</a>\u001b[0m \u001b[39m#print(\"\\nTail\")\u001b[39;00m\n\u001b[0;32m     <a href='vscode-notebook-cell:/c%3A/Users/yeswa/MScDSA-MDS171-23122044-Yeswanth/pandas.ipynb#X36sZmlsZQ%3D%3D?line=49'>50</a>\u001b[0m \u001b[39m#obj.tail(2)\u001b[39;00m\n\u001b[0;32m     <a href='vscode-notebook-cell:/c%3A/Users/yeswa/MScDSA-MDS171-23122044-Yeswanth/pandas.ipynb#X36sZmlsZQ%3D%3D?line=50'>51</a>\u001b[0m column\u001b[39m=\u001b[39m\u001b[39mint\u001b[39m(\u001b[39minput\u001b[39m(\u001b[39m\"\u001b[39m\u001b[39mEnter the column name needs to analysed - 1.Salary 2.Expense 3.Balance\u001b[39m\u001b[39m\"\u001b[39m))\n",
      "\u001b[1;32mc:\\Users\\yeswa\\MScDSA-MDS171-23122044-Yeswanth\\pandas.ipynb Cell 28\u001b[0m line \u001b[0;36m1\n\u001b[0;32m     <a href='vscode-notebook-cell:/c%3A/Users/yeswa/MScDSA-MDS171-23122044-Yeswanth/pandas.ipynb#X36sZmlsZQ%3D%3D?line=11'>12</a>\u001b[0m         \u001b[39melse\u001b[39;00m:\n\u001b[0;32m     <a href='vscode-notebook-cell:/c%3A/Users/yeswa/MScDSA-MDS171-23122044-Yeswanth/pandas.ipynb#X36sZmlsZQ%3D%3D?line=12'>13</a>\u001b[0m             sub_Dict\u001b[39m=\u001b[39m{\u001b[39m\"\u001b[39m\u001b[39mSalary\u001b[39m\u001b[39m\"\u001b[39m:line[\u001b[39m0\u001b[39m],\u001b[39m\"\u001b[39m\u001b[39mExpense\u001b[39m\u001b[39m\"\u001b[39m:line[\u001b[39m1\u001b[39m],\u001b[39m\"\u001b[39m\u001b[39mBalance\u001b[39m\u001b[39m\"\u001b[39m:line[\u001b[39m2\u001b[39m]\u001b[39m.\u001b[39mstrip()}\n\u001b[1;32m---> <a href='vscode-notebook-cell:/c%3A/Users/yeswa/MScDSA-MDS171-23122044-Yeswanth/pandas.ipynb#X36sZmlsZQ%3D%3D?line=13'>14</a>\u001b[0m             \u001b[39mself\u001b[39;49m\u001b[39m.\u001b[39;49mdata_Dict[\u001b[39m\"\u001b[39m\u001b[39mdict\u001b[39m\u001b[39m\"\u001b[39m]\u001b[39m.\u001b[39mappend(sub_Dict)\n\u001b[0;32m     <a href='vscode-notebook-cell:/c%3A/Users/yeswa/MScDSA-MDS171-23122044-Yeswanth/pandas.ipynb#X36sZmlsZQ%3D%3D?line=14'>15</a>\u001b[0m \u001b[39melse\u001b[39;00m:\n\u001b[0;32m     <a href='vscode-notebook-cell:/c%3A/Users/yeswa/MScDSA-MDS171-23122044-Yeswanth/pandas.ipynb#X36sZmlsZQ%3D%3D?line=15'>16</a>\u001b[0m     \u001b[39mprint\u001b[39m(\u001b[39m\"\u001b[39m\u001b[39mFile does not exist\u001b[39m\u001b[39m\"\u001b[39m)\n",
      "\u001b[1;31mAttributeError\u001b[0m: 'pandas_yeswanth' object has no attribute 'data_Dict'"
     ]
    }
   ],
   "source": [
    "import os\n",
    "class pandas_yeswanth:\n",
    "    def _init_(self):\n",
    "        self.data_Dict={\"dict\":[]}\n",
    "    \n",
    "    def read_CSV(self,fileName):\n",
    "        if os.path.isfile(fileName):\n",
    "            for i in open(fileName,\"r+\").readlines():\n",
    "                line=i.split(\",\")\n",
    "                if line[2]==\"\":\n",
    "                    pass\n",
    "                else:\n",
    "                    sub_Dict={\"Salary\":line[0],\"Expense\":line[1],\"Balance\":line[2].strip()}\n",
    "                    self.data_Dict[\"dict\"].append(sub_Dict)\n",
    "        else:\n",
    "            print(\"File does not exist\")\n",
    "            return False\n",
    "\n",
    "def describe(self,col):\n",
    "        print(col)\n",
    "        num=[]\n",
    "        count=0\n",
    "        sum=0\n",
    "        mode=0\n",
    "        flag1=0\n",
    "        flag2=0\n",
    "        for i in self.data_Dict[\"dict\"]:\n",
    "            if count!=0:\n",
    "                sum+=int(i[col])\n",
    "                num.append(int(i[col]))\n",
    "            count+=1\n",
    "        print(\"Count:\",count-1)\n",
    "        print(\"Mean:\",sum/(count-1))\n",
    "        for i in num:\n",
    "            flag1=0\n",
    "            for j in num:\n",
    "                if i==j:\n",
    "                    flag1+=1\n",
    "            if flag1>flag2:\n",
    "                flag2=flag1\n",
    "                mode=i\n",
    "        print(\"Mode:\",mode)\n",
    "        median=int(len(num)/2)-2\n",
    "        print(\"Median:\",num[median])\n",
    "\n",
    "obj=pandas_yeswanth()\n",
    "obj.read_CSV(\"data.csv\")\n",
    "#obj.head(3)\n",
    "#print(\"\\nTail\")\n",
    "#obj.tail(2)\n",
    "column=int(input(\"Enter the column name needs to analysed - 1.Salary 2.Expense 3.Balance\"))\n",
    "columnName=[\"Emp_id\"]\n",
    "obj.describe(columnName[column-1])"
   ]
  }
 ],
 "metadata": {
  "kernelspec": {
   "display_name": "Python 3",
   "language": "python",
   "name": "python3"
  },
  "language_info": {
   "codemirror_mode": {
    "name": "ipython",
    "version": 3
   },
   "file_extension": ".py",
   "mimetype": "text/x-python",
   "name": "python",
   "nbconvert_exporter": "python",
   "pygments_lexer": "ipython3",
   "version": "3.10.7"
  },
  "orig_nbformat": 4
 },
 "nbformat": 4,
 "nbformat_minor": 2
}
