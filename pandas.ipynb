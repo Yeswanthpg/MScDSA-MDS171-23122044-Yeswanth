{
 "cells": [
  {
   "cell_type": "code",
   "execution_count": 5,
   "metadata": {},
   "outputs": [
    {
     "name": "stdout",
     "output_type": "stream",
     "text": [
      "Requirement already satisfied: pandas in c:\\users\\yeswa\\appdata\\local\\programs\\python\\python310\\lib\\site-packages (2.1.1)\n",
      "Requirement already satisfied: tzdata>=2022.1 in c:\\users\\yeswa\\appdata\\local\\programs\\python\\python310\\lib\\site-packages (from pandas) (2023.3)\n",
      "Requirement already satisfied: pytz>=2020.1 in c:\\users\\yeswa\\appdata\\local\\programs\\python\\python310\\lib\\site-packages (from pandas) (2023.3.post1)\n",
      "Requirement already satisfied: python-dateutil>=2.8.2 in c:\\users\\yeswa\\appdata\\roaming\\python\\python310\\site-packages (from pandas) (2.8.2)\n",
      "Requirement already satisfied: numpy>=1.22.4 in c:\\users\\yeswa\\appdata\\local\\programs\\python\\python310\\lib\\site-packages (from pandas) (1.26.0)\n",
      "Requirement already satisfied: six>=1.5 in c:\\users\\yeswa\\appdata\\roaming\\python\\python310\\site-packages (from python-dateutil>=2.8.2->pandas) (1.16.0)\n",
      "Note: you may need to restart the kernel to use updated packages.\n"
     ]
    },
    {
     "name": "stderr",
     "output_type": "stream",
     "text": [
      "\n",
      "[notice] A new release of pip available: 22.2.2 -> 23.2.1\n",
      "[notice] To update, run: python.exe -m pip install --upgrade pip\n"
     ]
    }
   ],
   "source": [
    "pip install pandas"
   ]
  },
  {
   "cell_type": "code",
   "execution_count": 6,
   "metadata": {},
   "outputs": [],
   "source": [
    "import pandas as pd"
   ]
  },
  {
   "cell_type": "code",
   "execution_count": 7,
   "metadata": {},
   "outputs": [],
   "source": [
    "student = {\n",
    "    \"name\" : [\"yeswanth\",\"thamizhznbu\",\"sankar\",\"nizam\",\"vikas\",\"arjun\",\"thriveni\"],\n",
    "    \"age\" : [22,24,21,19,20,23,25]\n",
    "}"
   ]
  },
  {
   "cell_type": "code",
   "execution_count": 8,
   "metadata": {},
   "outputs": [
    {
     "name": "stdout",
     "output_type": "stream",
     "text": [
      "{'name': ['yeswanth', 'thamizhznbu', 'sankar', 'nizam', 'vikas', 'arjun', 'thriveni'], 'age': [22, 24, 21, 19, 20, 23, 25]}\n"
     ]
    }
   ],
   "source": [
    "print(student)"
   ]
  },
  {
   "cell_type": "code",
   "execution_count": 9,
   "metadata": {},
   "outputs": [],
   "source": [
    "df=pd.DataFrame(student)"
   ]
  },
  {
   "cell_type": "code",
   "execution_count": 10,
   "metadata": {},
   "outputs": [
    {
     "name": "stdout",
     "output_type": "stream",
     "text": [
      "          name  age\n",
      "0     yeswanth   22\n",
      "1  thamizhznbu   24\n",
      "2       sankar   21\n",
      "3        nizam   19\n",
      "4        vikas   20\n"
     ]
    }
   ],
   "source": [
    "print(df.head())"
   ]
  },
  {
   "cell_type": "code",
   "execution_count": 11,
   "metadata": {},
   "outputs": [
    {
     "data": {
      "text/html": [
       "<div>\n",
       "<style scoped>\n",
       "    .dataframe tbody tr th:only-of-type {\n",
       "        vertical-align: middle;\n",
       "    }\n",
       "\n",
       "    .dataframe tbody tr th {\n",
       "        vertical-align: top;\n",
       "    }\n",
       "\n",
       "    .dataframe thead th {\n",
       "        text-align: right;\n",
       "    }\n",
       "</style>\n",
       "<table border=\"1\" class=\"dataframe\">\n",
       "  <thead>\n",
       "    <tr style=\"text-align: right;\">\n",
       "      <th></th>\n",
       "      <th>name</th>\n",
       "      <th>age</th>\n",
       "    </tr>\n",
       "  </thead>\n",
       "  <tbody>\n",
       "    <tr>\n",
       "      <th>0</th>\n",
       "      <td>yeswanth</td>\n",
       "      <td>22</td>\n",
       "    </tr>\n",
       "    <tr>\n",
       "      <th>1</th>\n",
       "      <td>thamizhznbu</td>\n",
       "      <td>24</td>\n",
       "    </tr>\n",
       "    <tr>\n",
       "      <th>2</th>\n",
       "      <td>sankar</td>\n",
       "      <td>21</td>\n",
       "    </tr>\n",
       "    <tr>\n",
       "      <th>3</th>\n",
       "      <td>nizam</td>\n",
       "      <td>19</td>\n",
       "    </tr>\n",
       "    <tr>\n",
       "      <th>4</th>\n",
       "      <td>vikas</td>\n",
       "      <td>20</td>\n",
       "    </tr>\n",
       "  </tbody>\n",
       "</table>\n",
       "</div>"
      ],
      "text/plain": [
       "          name  age\n",
       "0     yeswanth   22\n",
       "1  thamizhznbu   24\n",
       "2       sankar   21\n",
       "3        nizam   19\n",
       "4        vikas   20"
      ]
     },
     "execution_count": 11,
     "metadata": {},
     "output_type": "execute_result"
    }
   ],
   "source": [
    "df.head()"
   ]
  },
  {
   "cell_type": "code",
   "execution_count": 12,
   "metadata": {},
   "outputs": [
    {
     "name": "stdout",
     "output_type": "stream",
     "text": [
      "       name  age\n",
      "2    sankar   21\n",
      "3     nizam   19\n",
      "4     vikas   20\n",
      "5     arjun   23\n",
      "6  thriveni   25\n"
     ]
    }
   ],
   "source": [
    "print(df.tail())"
   ]
  },
  {
   "cell_type": "code",
   "execution_count": 13,
   "metadata": {},
   "outputs": [
    {
     "data": {
      "text/html": [
       "<div>\n",
       "<style scoped>\n",
       "    .dataframe tbody tr th:only-of-type {\n",
       "        vertical-align: middle;\n",
       "    }\n",
       "\n",
       "    .dataframe tbody tr th {\n",
       "        vertical-align: top;\n",
       "    }\n",
       "\n",
       "    .dataframe thead th {\n",
       "        text-align: right;\n",
       "    }\n",
       "</style>\n",
       "<table border=\"1\" class=\"dataframe\">\n",
       "  <thead>\n",
       "    <tr style=\"text-align: right;\">\n",
       "      <th></th>\n",
       "      <th>name</th>\n",
       "      <th>age</th>\n",
       "    </tr>\n",
       "  </thead>\n",
       "  <tbody>\n",
       "    <tr>\n",
       "      <th>2</th>\n",
       "      <td>sankar</td>\n",
       "      <td>21</td>\n",
       "    </tr>\n",
       "    <tr>\n",
       "      <th>3</th>\n",
       "      <td>nizam</td>\n",
       "      <td>19</td>\n",
       "    </tr>\n",
       "    <tr>\n",
       "      <th>4</th>\n",
       "      <td>vikas</td>\n",
       "      <td>20</td>\n",
       "    </tr>\n",
       "    <tr>\n",
       "      <th>5</th>\n",
       "      <td>arjun</td>\n",
       "      <td>23</td>\n",
       "    </tr>\n",
       "    <tr>\n",
       "      <th>6</th>\n",
       "      <td>thriveni</td>\n",
       "      <td>25</td>\n",
       "    </tr>\n",
       "  </tbody>\n",
       "</table>\n",
       "</div>"
      ],
      "text/plain": [
       "       name  age\n",
       "2    sankar   21\n",
       "3     nizam   19\n",
       "4     vikas   20\n",
       "5     arjun   23\n",
       "6  thriveni   25"
      ]
     },
     "execution_count": 13,
     "metadata": {},
     "output_type": "execute_result"
    }
   ],
   "source": [
    "df.tail()"
   ]
  },
  {
   "cell_type": "code",
   "execution_count": 14,
   "metadata": {},
   "outputs": [
    {
     "data": {
      "text/html": [
       "<div>\n",
       "<style scoped>\n",
       "    .dataframe tbody tr th:only-of-type {\n",
       "        vertical-align: middle;\n",
       "    }\n",
       "\n",
       "    .dataframe tbody tr th {\n",
       "        vertical-align: top;\n",
       "    }\n",
       "\n",
       "    .dataframe thead th {\n",
       "        text-align: right;\n",
       "    }\n",
       "</style>\n",
       "<table border=\"1\" class=\"dataframe\">\n",
       "  <thead>\n",
       "    <tr style=\"text-align: right;\">\n",
       "      <th></th>\n",
       "      <th>Type</th>\n",
       "      <th>Expense Category</th>\n",
       "      <th>Amount</th>\n",
       "      <th>Description</th>\n",
       "      <th>Date</th>\n",
       "    </tr>\n",
       "  </thead>\n",
       "  <tbody>\n",
       "    <tr>\n",
       "      <th>0</th>\n",
       "      <td>type</td>\n",
       "      <td>catergory</td>\n",
       "      <td>cost</td>\n",
       "      <td>description</td>\n",
       "      <td>date</td>\n",
       "    </tr>\n",
       "    <tr>\n",
       "      <th>1</th>\n",
       "      <td>expense</td>\n",
       "      <td>dining</td>\n",
       "      <td>10</td>\n",
       "      <td>food</td>\n",
       "      <td>01-09-2023</td>\n",
       "    </tr>\n",
       "    <tr>\n",
       "      <th>2</th>\n",
       "      <td>expense</td>\n",
       "      <td>shopping</td>\n",
       "      <td>5</td>\n",
       "      <td>food</td>\n",
       "      <td>02-09-2023</td>\n",
       "    </tr>\n",
       "    <tr>\n",
       "      <th>3</th>\n",
       "      <td>expense</td>\n",
       "      <td>bill</td>\n",
       "      <td>30</td>\n",
       "      <td>electricity</td>\n",
       "      <td>03-09-2023</td>\n",
       "    </tr>\n",
       "    <tr>\n",
       "      <th>4</th>\n",
       "      <td>expense</td>\n",
       "      <td>health</td>\n",
       "      <td>15</td>\n",
       "      <td>medicene</td>\n",
       "      <td>04-09-2023</td>\n",
       "    </tr>\n",
       "    <tr>\n",
       "      <th>5</th>\n",
       "      <td>expense</td>\n",
       "      <td>shopping</td>\n",
       "      <td>90</td>\n",
       "      <td>dress</td>\n",
       "      <td>05-09-2023</td>\n",
       "    </tr>\n",
       "    <tr>\n",
       "      <th>6</th>\n",
       "      <td>expense</td>\n",
       "      <td>health</td>\n",
       "      <td>45</td>\n",
       "      <td>cold</td>\n",
       "      <td>06-09-2023</td>\n",
       "    </tr>\n",
       "    <tr>\n",
       "      <th>7</th>\n",
       "      <td>expense</td>\n",
       "      <td>dining</td>\n",
       "      <td>180</td>\n",
       "      <td>food</td>\n",
       "      <td>07-09-2023</td>\n",
       "    </tr>\n",
       "    <tr>\n",
       "      <th>8</th>\n",
       "      <td>expense</td>\n",
       "      <td>bill</td>\n",
       "      <td>90</td>\n",
       "      <td>water</td>\n",
       "      <td>08-09-2023</td>\n",
       "    </tr>\n",
       "    <tr>\n",
       "      <th>9</th>\n",
       "      <td>expense</td>\n",
       "      <td>health</td>\n",
       "      <td>360</td>\n",
       "      <td>fever</td>\n",
       "      <td>09-09-2023</td>\n",
       "    </tr>\n",
       "    <tr>\n",
       "      <th>10</th>\n",
       "      <td>expense</td>\n",
       "      <td>shopping</td>\n",
       "      <td>180</td>\n",
       "      <td>dress</td>\n",
       "      <td>10-09-2023</td>\n",
       "    </tr>\n",
       "    <tr>\n",
       "      <th>11</th>\n",
       "      <td>expense</td>\n",
       "      <td>health</td>\n",
       "      <td>720</td>\n",
       "      <td>cold</td>\n",
       "      <td>11-09-2023</td>\n",
       "    </tr>\n",
       "    <tr>\n",
       "      <th>12</th>\n",
       "      <td>expense</td>\n",
       "      <td>dining</td>\n",
       "      <td>360</td>\n",
       "      <td>food</td>\n",
       "      <td>12-09-2023</td>\n",
       "    </tr>\n",
       "    <tr>\n",
       "      <th>13</th>\n",
       "      <td>expense</td>\n",
       "      <td>dining</td>\n",
       "      <td>1440</td>\n",
       "      <td>food</td>\n",
       "      <td>13-09-2023</td>\n",
       "    </tr>\n",
       "    <tr>\n",
       "      <th>14</th>\n",
       "      <td>expense</td>\n",
       "      <td>shopping</td>\n",
       "      <td>425</td>\n",
       "      <td>dress</td>\n",
       "      <td>14-09-2023</td>\n",
       "    </tr>\n",
       "    <tr>\n",
       "      <th>15</th>\n",
       "      <td>expense</td>\n",
       "      <td>bill</td>\n",
       "      <td>1505</td>\n",
       "      <td>water</td>\n",
       "      <td>15-09-2023</td>\n",
       "    </tr>\n",
       "    <tr>\n",
       "      <th>16</th>\n",
       "      <td>expense</td>\n",
       "      <td>shopping</td>\n",
       "      <td>490</td>\n",
       "      <td>dress</td>\n",
       "      <td>16-09-2023</td>\n",
       "    </tr>\n",
       "    <tr>\n",
       "      <th>17</th>\n",
       "      <td>expense</td>\n",
       "      <td>health</td>\n",
       "      <td>1570</td>\n",
       "      <td>fever</td>\n",
       "      <td>17-09-2023</td>\n",
       "    </tr>\n",
       "    <tr>\n",
       "      <th>18</th>\n",
       "      <td>expense</td>\n",
       "      <td>bill</td>\n",
       "      <td>555</td>\n",
       "      <td>electricity</td>\n",
       "      <td>18-09-2023</td>\n",
       "    </tr>\n",
       "    <tr>\n",
       "      <th>19</th>\n",
       "      <td>expense</td>\n",
       "      <td>shopping</td>\n",
       "      <td>1635</td>\n",
       "      <td>food</td>\n",
       "      <td>19-09-2023</td>\n",
       "    </tr>\n",
       "    <tr>\n",
       "      <th>20</th>\n",
       "      <td>expense</td>\n",
       "      <td>dining</td>\n",
       "      <td>620</td>\n",
       "      <td>food</td>\n",
       "      <td>20-09-2023</td>\n",
       "    </tr>\n",
       "    <tr>\n",
       "      <th>21</th>\n",
       "      <td>expense</td>\n",
       "      <td>fuel</td>\n",
       "      <td>100</td>\n",
       "      <td>bike fuel</td>\n",
       "      <td>21/09/2023</td>\n",
       "    </tr>\n",
       "  </tbody>\n",
       "</table>\n",
       "</div>"
      ],
      "text/plain": [
       "       Type Expense Category Amount  Description        Date\n",
       "0      type        catergory   cost  description        date\n",
       "1   expense           dining     10         food  01-09-2023\n",
       "2   expense         shopping      5         food  02-09-2023\n",
       "3   expense             bill     30  electricity  03-09-2023\n",
       "4   expense           health     15     medicene  04-09-2023\n",
       "5   expense         shopping     90        dress  05-09-2023\n",
       "6   expense           health     45         cold  06-09-2023\n",
       "7   expense           dining    180         food  07-09-2023\n",
       "8   expense             bill     90        water  08-09-2023\n",
       "9   expense           health    360        fever  09-09-2023\n",
       "10  expense         shopping    180        dress  10-09-2023\n",
       "11  expense           health    720         cold  11-09-2023\n",
       "12  expense           dining    360         food  12-09-2023\n",
       "13  expense           dining   1440         food  13-09-2023\n",
       "14  expense         shopping    425        dress  14-09-2023\n",
       "15  expense             bill   1505        water  15-09-2023\n",
       "16  expense         shopping    490        dress  16-09-2023\n",
       "17  expense           health   1570        fever  17-09-2023\n",
       "18  expense             bill    555  electricity  18-09-2023\n",
       "19  expense         shopping   1635         food  19-09-2023\n",
       "20  expense           dining    620         food  20-09-2023\n",
       "21  expense             fuel    100    bike fuel  21/09/2023"
      ]
     },
     "execution_count": 14,
     "metadata": {},
     "output_type": "execute_result"
    }
   ],
   "source": [
    "pd.read_csv(\"Expense_Income_Tracker.csv\")"
   ]
  },
  {
   "cell_type": "code",
   "execution_count": 15,
   "metadata": {},
   "outputs": [],
   "source": [
    "df = pd.read_csv(\"Expense_Income_Tracker.csv\")"
   ]
  },
  {
   "cell_type": "code",
   "execution_count": 16,
   "metadata": {},
   "outputs": [
    {
     "data": {
      "text/plain": [
       "Index(['Type', 'Expense Category', 'Amount', 'Description', 'Date'], dtype='object')"
      ]
     },
     "execution_count": 16,
     "metadata": {},
     "output_type": "execute_result"
    }
   ],
   "source": [
    "df.columns"
   ]
  },
  {
   "cell_type": "code",
   "execution_count": 17,
   "metadata": {},
   "outputs": [
    {
     "data": {
      "text/html": [
       "<div>\n",
       "<style scoped>\n",
       "    .dataframe tbody tr th:only-of-type {\n",
       "        vertical-align: middle;\n",
       "    }\n",
       "\n",
       "    .dataframe tbody tr th {\n",
       "        vertical-align: top;\n",
       "    }\n",
       "\n",
       "    .dataframe thead th {\n",
       "        text-align: right;\n",
       "    }\n",
       "</style>\n",
       "<table border=\"1\" class=\"dataframe\">\n",
       "  <thead>\n",
       "    <tr style=\"text-align: right;\">\n",
       "      <th></th>\n",
       "      <th>Type</th>\n",
       "      <th>Expense Category</th>\n",
       "      <th>Amount</th>\n",
       "      <th>Description</th>\n",
       "      <th>Date</th>\n",
       "    </tr>\n",
       "  </thead>\n",
       "  <tbody>\n",
       "    <tr>\n",
       "      <th>0</th>\n",
       "      <td>type</td>\n",
       "      <td>catergory</td>\n",
       "      <td>cost</td>\n",
       "      <td>description</td>\n",
       "      <td>date</td>\n",
       "    </tr>\n",
       "    <tr>\n",
       "      <th>1</th>\n",
       "      <td>expense</td>\n",
       "      <td>dining</td>\n",
       "      <td>10</td>\n",
       "      <td>food</td>\n",
       "      <td>01-09-2023</td>\n",
       "    </tr>\n",
       "    <tr>\n",
       "      <th>2</th>\n",
       "      <td>expense</td>\n",
       "      <td>shopping</td>\n",
       "      <td>5</td>\n",
       "      <td>food</td>\n",
       "      <td>02-09-2023</td>\n",
       "    </tr>\n",
       "  </tbody>\n",
       "</table>\n",
       "</div>"
      ],
      "text/plain": [
       "      Type Expense Category Amount  Description        Date\n",
       "0     type        catergory   cost  description        date\n",
       "1  expense           dining     10         food  01-09-2023\n",
       "2  expense         shopping      5         food  02-09-2023"
      ]
     },
     "execution_count": 17,
     "metadata": {},
     "output_type": "execute_result"
    }
   ],
   "source": [
    "df.head(3)"
   ]
  },
  {
   "cell_type": "code",
   "execution_count": 18,
   "metadata": {},
   "outputs": [
    {
     "data": {
      "text/html": [
       "<div>\n",
       "<style scoped>\n",
       "    .dataframe tbody tr th:only-of-type {\n",
       "        vertical-align: middle;\n",
       "    }\n",
       "\n",
       "    .dataframe tbody tr th {\n",
       "        vertical-align: top;\n",
       "    }\n",
       "\n",
       "    .dataframe thead th {\n",
       "        text-align: right;\n",
       "    }\n",
       "</style>\n",
       "<table border=\"1\" class=\"dataframe\">\n",
       "  <thead>\n",
       "    <tr style=\"text-align: right;\">\n",
       "      <th></th>\n",
       "      <th>Type</th>\n",
       "      <th>Expense Category</th>\n",
       "      <th>Amount</th>\n",
       "      <th>Description</th>\n",
       "      <th>Date</th>\n",
       "    </tr>\n",
       "  </thead>\n",
       "  <tbody>\n",
       "    <tr>\n",
       "      <th>19</th>\n",
       "      <td>expense</td>\n",
       "      <td>shopping</td>\n",
       "      <td>1635</td>\n",
       "      <td>food</td>\n",
       "      <td>19-09-2023</td>\n",
       "    </tr>\n",
       "    <tr>\n",
       "      <th>20</th>\n",
       "      <td>expense</td>\n",
       "      <td>dining</td>\n",
       "      <td>620</td>\n",
       "      <td>food</td>\n",
       "      <td>20-09-2023</td>\n",
       "    </tr>\n",
       "    <tr>\n",
       "      <th>21</th>\n",
       "      <td>expense</td>\n",
       "      <td>fuel</td>\n",
       "      <td>100</td>\n",
       "      <td>bike fuel</td>\n",
       "      <td>21/09/2023</td>\n",
       "    </tr>\n",
       "  </tbody>\n",
       "</table>\n",
       "</div>"
      ],
      "text/plain": [
       "       Type Expense Category Amount Description        Date\n",
       "19  expense         shopping   1635        food  19-09-2023\n",
       "20  expense           dining    620        food  20-09-2023\n",
       "21  expense             fuel    100   bike fuel  21/09/2023"
      ]
     },
     "execution_count": 18,
     "metadata": {},
     "output_type": "execute_result"
    }
   ],
   "source": [
    "df.tail(3)"
   ]
  },
  {
   "cell_type": "code",
   "execution_count": 19,
   "metadata": {},
   "outputs": [
    {
     "data": {
      "text/html": [
       "<div>\n",
       "<style scoped>\n",
       "    .dataframe tbody tr th:only-of-type {\n",
       "        vertical-align: middle;\n",
       "    }\n",
       "\n",
       "    .dataframe tbody tr th {\n",
       "        vertical-align: top;\n",
       "    }\n",
       "\n",
       "    .dataframe thead th {\n",
       "        text-align: right;\n",
       "    }\n",
       "</style>\n",
       "<table border=\"1\" class=\"dataframe\">\n",
       "  <thead>\n",
       "    <tr style=\"text-align: right;\">\n",
       "      <th></th>\n",
       "      <th>Type</th>\n",
       "      <th>Expense Category</th>\n",
       "      <th>Amount</th>\n",
       "      <th>Description</th>\n",
       "      <th>Date</th>\n",
       "    </tr>\n",
       "  </thead>\n",
       "  <tbody>\n",
       "    <tr>\n",
       "      <th>count</th>\n",
       "      <td>22</td>\n",
       "      <td>22</td>\n",
       "      <td>22</td>\n",
       "      <td>22</td>\n",
       "      <td>22</td>\n",
       "    </tr>\n",
       "    <tr>\n",
       "      <th>unique</th>\n",
       "      <td>2</td>\n",
       "      <td>6</td>\n",
       "      <td>19</td>\n",
       "      <td>9</td>\n",
       "      <td>22</td>\n",
       "    </tr>\n",
       "    <tr>\n",
       "      <th>top</th>\n",
       "      <td>expense</td>\n",
       "      <td>shopping</td>\n",
       "      <td>90</td>\n",
       "      <td>food</td>\n",
       "      <td>date</td>\n",
       "    </tr>\n",
       "    <tr>\n",
       "      <th>freq</th>\n",
       "      <td>21</td>\n",
       "      <td>6</td>\n",
       "      <td>2</td>\n",
       "      <td>7</td>\n",
       "      <td>1</td>\n",
       "    </tr>\n",
       "  </tbody>\n",
       "</table>\n",
       "</div>"
      ],
      "text/plain": [
       "           Type Expense Category Amount Description  Date\n",
       "count        22               22     22          22    22\n",
       "unique        2                6     19           9    22\n",
       "top     expense         shopping     90        food  date\n",
       "freq         21                6      2           7     1"
      ]
     },
     "execution_count": 19,
     "metadata": {},
     "output_type": "execute_result"
    }
   ],
   "source": [
    "df.describe()"
   ]
  },
  {
   "cell_type": "code",
   "execution_count": 20,
   "metadata": {},
   "outputs": [
    {
     "name": "stdout",
     "output_type": "stream",
     "text": [
      "Requirement already satisfied: matplotlib in c:\\users\\yeswa\\appdata\\local\\programs\\python\\python310\\lib\\site-packages (3.8.0)\n",
      "Requirement already satisfied: kiwisolver>=1.0.1 in c:\\users\\yeswa\\appdata\\local\\programs\\python\\python310\\lib\\site-packages (from matplotlib) (1.4.5)\n",
      "Requirement already satisfied: pyparsing>=2.3.1 in c:\\users\\yeswa\\appdata\\local\\programs\\python\\python310\\lib\\site-packages (from matplotlib) (3.1.1)\n",
      "Requirement already satisfied: pillow>=6.2.0 in c:\\users\\yeswa\\appdata\\local\\programs\\python\\python310\\lib\\site-packages (from matplotlib) (10.0.1)\n",
      "Requirement already satisfied: cycler>=0.10 in c:\\users\\yeswa\\appdata\\local\\programs\\python\\python310\\lib\\site-packages (from matplotlib) (0.12.1)\n",
      "Requirement already satisfied: python-dateutil>=2.7 in c:\\users\\yeswa\\appdata\\roaming\\python\\python310\\site-packages (from matplotlib) (2.8.2)\n",
      "Requirement already satisfied: contourpy>=1.0.1 in c:\\users\\yeswa\\appdata\\local\\programs\\python\\python310\\lib\\site-packages (from matplotlib) (1.1.1)\n",
      "Requirement already satisfied: numpy<2,>=1.21 in c:\\users\\yeswa\\appdata\\local\\programs\\python\\python310\\lib\\site-packages (from matplotlib) (1.26.0)\n",
      "Requirement already satisfied: packaging>=20.0 in c:\\users\\yeswa\\appdata\\roaming\\python\\python310\\site-packages (from matplotlib) (23.1)\n",
      "Requirement already satisfied: fonttools>=4.22.0 in c:\\users\\yeswa\\appdata\\local\\programs\\python\\python310\\lib\\site-packages (from matplotlib) (4.43.1)\n",
      "Requirement already satisfied: six>=1.5 in c:\\users\\yeswa\\appdata\\roaming\\python\\python310\\site-packages (from python-dateutil>=2.7->matplotlib) (1.16.0)\n",
      "Note: you may need to restart the kernel to use updated packages.\n"
     ]
    },
    {
     "name": "stderr",
     "output_type": "stream",
     "text": [
      "\n",
      "[notice] A new release of pip available: 22.2.2 -> 23.2.1\n",
      "[notice] To update, run: python.exe -m pip install --upgrade pip\n"
     ]
    }
   ],
   "source": [
    "pip install matplotlib"
   ]
  },
  {
   "cell_type": "code",
   "execution_count": 21,
   "metadata": {},
   "outputs": [
    {
     "data": {
      "text/plain": [
       "<Axes: >"
      ]
     },
     "execution_count": 21,
     "metadata": {},
     "output_type": "execute_result"
    },
    {
     "data": {
      "image/png": "[encoded data removed]",
      "text/plain": [
       "<Figure size 640x480 with 1 Axes>"
      ]
     },
     "metadata": {},
     "output_type": "display_data"
    }
   ],
   "source": [
    "df[\"Amount\"].hist()\n"
   ]
  },
  {
   "cell_type": "code",
   "execution_count": 22,
   "metadata": {},
   "outputs": [],
   "source": [
    "#class pandas_yeswanth:\n",
    "# def __init__(): stores the data\n",
    " # read csv(): reads a csv file\n",
    "#head(): print the top n rows\n",
    "#tail(): print the bottom n rows\n",
    "    \n"
   ]
  },
  {
   "cell_type": "code",
   "execution_count": 23,
   "metadata": {},
   "outputs": [],
   "source": [
    "class pandas_yeswanth:\n",
    " def __init__(self):\n",
    "    self.data = None\n",
    "\n",
    " def read_csv(self, filename):\n",
    "       \n",
    "        self.data = pd.read_csv(filename)\n",
    "\n",
    " def head(self, n=5):\n",
    "        if self.data is not None:\n",
    "            print(self.data.head(n))\n",
    "        else:\n",
    "            print(\"No data has been loaded yet.\")\n",
    "\n",
    " def tail(self, n=5):\n",
    "        if self.data is not None:\n",
    "            print(self.data.tail(n))\n",
    "        else:\n",
    "            print(\"No data has been loaded yet.\")\n"
   ]
  },
  {
   "cell_type": "code",
   "execution_count": 25,
   "metadata": {},
   "outputs": [
    {
     "name": "stdout",
     "output_type": "stream",
     "text": [
      "      Type Expense Category Amount  Description        Date\n",
      "0     type        catergory   cost  description        date\n",
      "1  expense           dining     10         food  01-09-2023\n",
      "2  expense         shopping      5         food  02-09-2023\n",
      "3  expense             bill     30  electricity  03-09-2023\n",
      "4  expense           health     15     medicene  04-09-2023\n",
      "       Type Expense Category Amount  Description        Date\n",
      "18  expense             bill    555  electricity  18-09-2023\n",
      "19  expense         shopping   1635         food  19-09-2023\n",
      "20  expense           dining    620         food  20-09-2023\n",
      "21  expense             fuel    100    bike fuel  21/09/2023\n",
      "Index(['Type', 'Expense Category', 'Amount', 'Description', 'Date'], dtype='object')\n"
     ]
    }
   ],
   "source": [
    "# Create an instance of the class\n",
    "pandas_instance = pandas_yeswanth()\n",
    "\n",
    "# Read a CSV file\n",
    "pandas_instance.read_csv(\"Expense_Income_Tracker.csv\")\n",
    "\n",
    "# Display the top 3 rows\n",
    "pandas_instance.head(5)\n",
    "\n",
    "# Display the bottom 2 rows\n",
    "pandas_instance.tail(4)\n",
    "print(df.columns)"
   ]
  },
  {
   "cell_type": "code",
   "execution_count": 7,
   "metadata": {},
   "outputs": [
    {
     "name": "stdout",
     "output_type": "stream",
     "text": [
      "Mean of 'Salary': 34916.47524752475\n",
      "Median of 'Salary': 35401.5\n",
      "Mode of 'Salary': 20000.0\n"
     ]
    }
   ],
   "source": [
    "import csv\n",
    "from statistics import mean, median, mode\n",
    "\n",
    "# Function to calculate the mean, median, and mode for a column\n",
    "def calculate_stats(column_data):\n",
    "    # Calculate mean\n",
    "    mean_value = mean(column_data)\n",
    "\n",
    "    # Calculate median\n",
    "    median_value = median(column_data)\n",
    "\n",
    "    # Calculate mode\n",
    "    try:\n",
    "        mode_value = mode(column_data)\n",
    "    except S\n",
    "        mode_value = \"No unique mode found\"\n",
    "\n",
    "    return mean_value, median_value, mode_value\n",
    "\n",
    "# Function to read CSV file and extract a column\n",
    "def read_csv_and_extract_column(file_path, column_name):\n",
    "    column_data = []\n",
    "    with open(file_path, mode='r', newline='') as file:\n",
    "        csv_reader = csv.DictReader(file)\n",
    "        for row in csv_reader:\n",
    "            try:\n",
    "                value = float(row[column_name])\n",
    "                column_data.append(value)\n",
    "            except (ValueError, KeyError):\n",
    "                pass  # Ignore non-numeric or missing values\n",
    "\n",
    "    if not column_data:\n",
    "        raise ValueError(f\"No valid numeric data found in column '{column_name}'\")\n",
    "\n",
    "    return column_data\n",
    "\n",
    "# Main program\n",
    "try:\n",
    "    csv_file = input(\"Enter the CSV file path: \")\n",
    "    column_name = input(\"Enter the column name for which you want to calculate stats: \")\n",
    "\n",
    "    column_data = read_csv_and_extract_column(csv_file, column_name)\n",
    "\n",
    "    mean_val, median_val, mode_val = calculate_stats(column_data)\n",
    "\n",
    "    print(f\"Mean of '{column_name}': {mean_val}\")\n",
    "    print(f\"Median of '{column_name}': {median_val}\")\n",
    "    print(f\"Mode of '{column_name}': {mode_val}\")\n",
    "except FileNotFoundError:\n",
    "    print(f\"File not found: {csv_file}\")\n",
    "except ValueError as ve:\n",
    "    print(str(ve))\n",
    "except Exception as e:\n",
    "    print(f\"An error occurred: {str(e)}\")\n"
   ]
  }
 ],
 "metadata": {
  "kernelspec": {
   "display_name": "Python 3",
   "language": "python",
   "name": "python3"
  },
  "language_info": {
   "codemirror_mode": {
    "name": "ipython",
    "version": 3
   },
   "file_extension": ".py",
   "mimetype": "text/x-python",
   "name": "python",
   "nbconvert_exporter": "python",
   "pygments_lexer": "ipython3",
   "version": "3.10.7"
  },
  "orig_nbformat": 4
 },
 "nbformat": 4,
 "nbformat_minor": 2
}
