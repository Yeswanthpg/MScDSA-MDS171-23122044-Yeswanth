{
 "cells": [
  {
   "cell_type": "code",
   "execution_count": 6,
   "metadata": {},
   "outputs": [
    {
     "name": "stdout",
     "output_type": "stream",
     "text": [
      "0\n",
      "1\n",
      "2\n",
      "3\n",
      "4\n"
     ]
    }
   ],
   "source": [
    "a = 0 \n",
    "while a < 5:\n",
    " print(a)\n",
    " a = a+1\n",
    " #a+= 1"
   ]
  },
  {
   "cell_type": "code",
   "execution_count": 5,
   "metadata": {},
   "outputs": [
    {
     "name": "stdout",
     "output_type": "stream",
     "text": [
      "Right Triangle:\n",
      "😀\n",
      "😀😀\n",
      "😀😀😀\n",
      "😀😀😀😀\n",
      "😀😀😀😀😀\n",
      "\n",
      "Left Triangle:\n",
      "😀😀😀😀😀\n",
      "😀😀😀😀\n",
      "😀😀😀\n",
      "😀😀\n",
      "😀\n",
      "\n",
      "Reverse Triangle:\n",
      "    😀\n",
      "   😀😀\n",
      "  😀😀😀\n",
      " 😀😀😀😀\n",
      "😀😀😀😀😀\n"
     ]
    }
   ],
   "source": [
    "def right_triangle(n, smiley_set):\n",
    "    if n <= 0:\n",
    "        return\n",
    "    right_triangle(n - 1, smiley_set)\n",
    "    print(smiley_set * n)\n",
    "\n",
    "def left_triangle(n, smiley_set):\n",
    "    if n <= 0:\n",
    "        return\n",
    "    print(smiley_set * n)\n",
    "    left_triangle(n - 1, smiley_set)\n",
    "\n",
    "def reverse_triangle(n, smiley_set):\n",
    "    if n <= 0:\n",
    "        return\n",
    "    reverse_triangle(n - 1, smiley_set)\n",
    "    print(' ' * (5 - n) + smiley_set * n)\n",
    "\n",
    "# Set the number of rows and smiley character\n",
    "rows = 5\n",
    "smiley = \"😀\"\n",
    "\n",
    "print(\"Right Triangle:\")\n",
    "right_triangle(rows, smiley)\n",
    "\n",
    "print(\"\\nLeft Triangle:\")\n",
    "left_triangle(rows, smiley)\n",
    "\n",
    "print(\"\\nReverse Triangle:\")\n",
    "reverse_triangle(rows, smiley)"
   ]
  },
  {
   "cell_type": "code",
   "execution_count": 19,
   "metadata": {},
   "outputs": [
    {
     "name": "stdout",
     "output_type": "stream",
     "text": [
      "1\n",
      "3\n"
     ]
    }
   ],
   "source": [
    "# break | continue | pass\n",
    "for item in range (1,20,2):\n",
    "    if item == 5:\n",
    "        break\n",
    "    print(item)\n",
    " "
   ]
  },
  {
   "cell_type": "code",
   "execution_count": 21,
   "metadata": {},
   "outputs": [
    {
     "name": "stdout",
     "output_type": "stream",
     "text": [
      "1\n",
      "3\n",
      "7\n",
      "9\n",
      "11\n",
      "13\n",
      "15\n",
      "17\n",
      "19\n"
     ]
    }
   ],
   "source": [
    "# break | continue | pass\n",
    "for item in range (1,20,2):\n",
    "    if item == 5:\n",
    "        continue\n",
    "    print(item)"
   ]
  },
  {
   "cell_type": "code",
   "execution_count": 30,
   "metadata": {},
   "outputs": [
    {
     "name": "stdout",
     "output_type": "stream",
     "text": [
      "1\n",
      "6\n",
      "11\n",
      "16\n"
     ]
    }
   ],
   "source": [
    "# break | continue | pass\n",
    "for item in range (1,20,5):\n",
    "    if item == 15:\n",
    "        pass\n",
    "    print(item)"
   ]
  }
 ],
 "metadata": {
  "kernelspec": {
   "display_name": "Python 3",
   "language": "python",
   "name": "python3"
  },
  "language_info": {
   "codemirror_mode": {
    "name": "ipython",
    "version": 3
   },
   "file_extension": ".py",
   "mimetype": "text/x-python",
   "name": "python",
   "nbconvert_exporter": "python",
   "pygments_lexer": "ipython3",
   "version": "3.11.4"
  },
  "orig_nbformat": 4
 },
 "nbformat": 4,
 "nbformat_minor": 2
}
