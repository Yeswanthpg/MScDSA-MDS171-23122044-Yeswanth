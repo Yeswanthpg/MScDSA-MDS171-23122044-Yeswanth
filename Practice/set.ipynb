{
 "cells": [
  {
   "cell_type": "code",
   "execution_count": 11,
   "metadata": {},
   "outputs": [
    {
     "name": "stdout",
     "output_type": "stream",
     "text": [
      "cherry\n"
     ]
    }
   ],
   "source": [
    "list_x =[\"apple\",\"cherry\",\"orange\",\"apple\",\"grape\",\"apple\",\"grape\",\"banana\",\"apple\",\"kiwi\"]\n",
    "set_x = set(list_x)\n",
    "for item in set_x:\n",
    "   if list_x == set_x:\n",
    "    count = +1\n",
    "print (item)\n"
   ]
  }
 ],
 "metadata": {
  "kernelspec": {
   "display_name": "Python 3",
   "language": "python",
   "name": "python3"
  },
  "language_info": {
   "codemirror_mode": {
    "name": "ipython",
    "version": 3
   },
   "file_extension": ".py",
   "mimetype": "text/x-python",
   "name": "python",
   "nbconvert_exporter": "python",
   "pygments_lexer": "ipython3",
   "version": "3.11.4"
  },
  "orig_nbformat": 4
 },
 "nbformat": 4,
 "nbformat_minor": 2
}
