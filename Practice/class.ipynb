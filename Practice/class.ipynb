{
 "cells": [
  {
   "cell_type": "code",
   "execution_count": null,
   "metadata": {},
   "outputs": [],
   "source": [
    "class student():\n",
    "   \n",
    "    #data members\n",
    "    #member functions\n",
    " \n",
    " def __init__(self):\n",
    "    self.name = \"yeswanth\"\n",
    "    self.email =\"yeswanthpg@gmail.com\"\n",
    "    self.phno = 6383625414\n",
    " def printstudent(self):\n",
    "  print(\"name: {}\\nemail:{}\\nphno:{}\".format(self.name,self.email,self.phno))\n",
    " def __str__(self):\n",
    "   pass\n",
    "\n",
    "yeswanth = student()\n",
    "yeswanth.printstudent()\n",
    "print(yeswanth.name)\n"
   ]
  },
  {
   "cell_type": "code",
   "execution_count": 4,
   "metadata": {},
   "outputs": [
    {
     "name": "stdout",
     "output_type": "stream",
     "text": [
      "yeswanth MSc DS\n",
      "yeswanth\n",
      "type[<__main__.student object at 0x00000232BF332F90>]\n"
     ]
    }
   ],
   "source": [
    "class student:\n",
    "    def __init__(self,a,b):\n",
    "        self.name = a\n",
    "        self.stu_class = b\n",
    "    def __str__(self):\n",
    "     return self.name\n",
    "\n",
    "abc = student(\"yeswanth\",\"MSc DS\")\n",
    "print(abc.name,abc.stu_class)\n",
    "print(abc)\n",
    "print(type[abc])"
   ]
  },
  {
   "cell_type": "markdown",
   "metadata": {},
   "source": []
  },
  {
   "cell_type": "code",
   "execution_count": 2,
   "metadata": {},
   "outputs": [
    {
     "ename": "TypeError",
     "evalue": "resturant.__init__() takes 1 positional argument but 3 were given",
     "output_type": "error",
     "traceback": [
      "\u001b[1;31m---------------------------------------------------------------------------\u001b[0m",
      "\u001b[1;31mTypeError\u001b[0m                                 Traceback (most recent call last)",
      "\u001b[1;32mc:\\Users\\yeswa\\MScDSA-MDS171-23122044-Yeswanth\\Practice\\class.ipynb Cell 4\u001b[0m line \u001b[0;36m2\n\u001b[0;32m     <a href='vscode-notebook-cell:/c%3A/Users/yeswa/MScDSA-MDS171-23122044-Yeswanth/Practice/class.ipynb#W3sZmlsZQ%3D%3D?line=18'>19</a>\u001b[0m      \u001b[39mpass\u001b[39;00m\n\u001b[0;32m     <a href='vscode-notebook-cell:/c%3A/Users/yeswa/MScDSA-MDS171-23122044-Yeswanth/Practice/class.ipynb#W3sZmlsZQ%3D%3D?line=20'>21</a>\u001b[0m \u001b[39m# Create an instance of the ItemCatalog class.\u001b[39;00m\n\u001b[1;32m---> <a href='vscode-notebook-cell:/c%3A/Users/yeswa/MScDSA-MDS171-23122044-Yeswanth/Practice/class.ipynb#W3sZmlsZQ%3D%3D?line=21'>22</a>\u001b[0m resturant \u001b[39m=\u001b[39m resturant(\u001b[39m\"\u001b[39;49m\u001b[39mitem1\u001b[39;49m\u001b[39m\"\u001b[39;49m,\u001b[39m\"\u001b[39;49m\u001b[39m10\u001b[39;49m\u001b[39m\"\u001b[39;49m)\n\u001b[0;32m     <a href='vscode-notebook-cell:/c%3A/Users/yeswa/MScDSA-MDS171-23122044-Yeswanth/Practice/class.ipynb#W3sZmlsZQ%3D%3D?line=22'>23</a>\u001b[0m \u001b[39mprint\u001b[39m(resturant)\n\u001b[0;32m     <a href='vscode-notebook-cell:/c%3A/Users/yeswa/MScDSA-MDS171-23122044-Yeswanth/Practice/class.ipynb#W3sZmlsZQ%3D%3D?line=23'>24</a>\u001b[0m \u001b[39mprint\u001b[39m(\u001b[39mtype\u001b[39m[resturant])\n",
      "\u001b[1;31mTypeError\u001b[0m: resturant.__init__() takes 1 positional argument but 3 were given"
     ]
    }
   ],
   "source": [
    "class resturant:\n",
    "    def __init__(self):\n",
    "        # Initialize the item catalog as a dictionary with item names as keys and their prices as values.\n",
    "        self.resturant = {\n",
    "            \"item1\": 10.0,\n",
    "            \"item2\": 20.0,\n",
    "            \"item3\": 50.0,\n",
    "        }\n",
    "\n",
    "    def tot_cost(self, item_name, qty):\n",
    "        # Check if the item exists in the catalog.\n",
    "        if item_name in self.resturant:\n",
    "            item_price = self.resturant[item_name]\n",
    "            total_cost = item_price * qty\n",
    "            print(f\"Total cost for {qty} {item_name}(s): ${total_cost:.2f}\")\n",
    "        else:\n",
    "            print(f\"{item_name} is not in the catalog.\")\n",
    "    def __str__(self):\n",
    "     pass\n",
    "     \n",
    "# Create an instance of the ItemCatalog class.\n",
    "resturant = resturant(\"item1\",\"10\")\n",
    "print(resturant)\n",
    "print(type[resturant])\n",
    "\n",
    "def total_\n"
   ]
  }
 ],
 "metadata": {
  "kernelspec": {
   "display_name": "base",
   "language": "python",
   "name": "python3"
  },
  "language_info": {
   "codemirror_mode": {
    "name": "ipython",
    "version": 3
   },
   "file_extension": ".py",
   "mimetype": "text/x-python",
   "name": "python",
   "nbconvert_exporter": "python",
   "pygments_lexer": "ipython3",
   "version": "3.11.4"
  },
  "orig_nbformat": 4
 },
 "nbformat": 4,
 "nbformat_minor": 2
}
