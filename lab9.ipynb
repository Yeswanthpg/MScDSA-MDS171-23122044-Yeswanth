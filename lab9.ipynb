{
 "cells": [
  {
   "cell_type": "code",
   "execution_count": 6,
   "metadata": {},
   "outputs": [
    {
     "ename": "FileNotFoundError",
     "evalue": "[Errno 2] No such file or directory: 'Expense_Income_Tracker.csv'",
     "output_type": "error",
     "traceback": [
      "\u001b[1;31m---------------------------------------------------------------------------\u001b[0m",
      "\u001b[1;31mFileNotFoundError\u001b[0m                         Traceback (most recent call last)",
      "\u001b[1;32mc:\\Users\\yeswa\\MScDSA-MDS171-23122044-Yeswanth\\lab9.ipynb Cell 1\u001b[0m line \u001b[0;36m3\n\u001b[0;32m     <a href='vscode-notebook-cell:/c%3A/Users/yeswa/MScDSA-MDS171-23122044-Yeswanth/lab9.ipynb#W0sZmlsZQ%3D%3D?line=31'>32</a>\u001b[0m         file\u001b[39m.\u001b[39mclose()\n\u001b[0;32m     <a href='vscode-notebook-cell:/c%3A/Users/yeswa/MScDSA-MDS171-23122044-Yeswanth/lab9.ipynb#W0sZmlsZQ%3D%3D?line=34'>35</a>\u001b[0m order\u001b[39m=\u001b[39mexpenseTracker()\n\u001b[1;32m---> <a href='vscode-notebook-cell:/c%3A/Users/yeswa/MScDSA-MDS171-23122044-Yeswanth/lab9.ipynb#W0sZmlsZQ%3D%3D?line=35'>36</a>\u001b[0m order\u001b[39m.\u001b[39;49mretrieveTransactions()\n\u001b[0;32m     <a href='vscode-notebook-cell:/c%3A/Users/yeswa/MScDSA-MDS171-23122044-Yeswanth/lab9.ipynb#W0sZmlsZQ%3D%3D?line=36'>37</a>\u001b[0m \u001b[39mwhile\u001b[39;00m \u001b[39mTrue\u001b[39;00m:\n\u001b[0;32m     <a href='vscode-notebook-cell:/c%3A/Users/yeswa/MScDSA-MDS171-23122044-Yeswanth/lab9.ipynb#W0sZmlsZQ%3D%3D?line=37'>38</a>\u001b[0m     \u001b[39mprint\u001b[39m(\u001b[39m\"\u001b[39m\u001b[39m1.Add New Transaction\u001b[39m\u001b[39m\\n\u001b[39;00m\u001b[39m2.Calculate Total Income and Expense\u001b[39m\u001b[39m\\n\u001b[39;00m\u001b[39m3.Exit\u001b[39m\u001b[39m\"\u001b[39m)\n",
      "\u001b[1;32mc:\\Users\\yeswa\\MScDSA-MDS171-23122044-Yeswanth\\lab9.ipynb Cell 1\u001b[0m line \u001b[0;36m6\n\u001b[0;32m      <a href='vscode-notebook-cell:/c%3A/Users/yeswa/MScDSA-MDS171-23122044-Yeswanth/lab9.ipynb#W0sZmlsZQ%3D%3D?line=4'>5</a>\u001b[0m \u001b[39mdef\u001b[39;00m \u001b[39mretrieveTransactions\u001b[39m(\u001b[39mself\u001b[39m):\n\u001b[1;32m----> <a href='vscode-notebook-cell:/c%3A/Users/yeswa/MScDSA-MDS171-23122044-Yeswanth/lab9.ipynb#W0sZmlsZQ%3D%3D?line=5'>6</a>\u001b[0m     \u001b[39mfor\u001b[39;00m i \u001b[39min\u001b[39;00m \u001b[39mopen\u001b[39;49m(\u001b[39m\"\u001b[39;49m\u001b[39mExpense_Income_Tracker.csv\u001b[39;49m\u001b[39m\"\u001b[39;49m,\u001b[39m\"\u001b[39;49m\u001b[39mr+\u001b[39;49m\u001b[39m\"\u001b[39;49m)\u001b[39m.\u001b[39mreadlines():\n\u001b[0;32m      <a href='vscode-notebook-cell:/c%3A/Users/yeswa/MScDSA-MDS171-23122044-Yeswanth/lab9.ipynb#W0sZmlsZQ%3D%3D?line=6'>7</a>\u001b[0m         line\u001b[39m=\u001b[39mi\u001b[39m.\u001b[39msplit(\u001b[39m\"\u001b[39m\u001b[39m,\u001b[39m\u001b[39m\"\u001b[39m)\n\u001b[0;32m      <a href='vscode-notebook-cell:/c%3A/Users/yeswa/MScDSA-MDS171-23122044-Yeswanth/lab9.ipynb#W0sZmlsZQ%3D%3D?line=7'>8</a>\u001b[0m         \u001b[39mif\u001b[39;00m line[\u001b[39m1\u001b[39m]\u001b[39m!=\u001b[39m\u001b[39m\"\u001b[39m\u001b[39mExpense Category\u001b[39m\u001b[39m\"\u001b[39m:\n",
      "File \u001b[1;32m~\\AppData\\Roaming\\Python\\Python310\\site-packages\\IPython\\core\\interactiveshell.py:284\u001b[0m, in \u001b[0;36m_modified_open\u001b[1;34m(file, *args, **kwargs)\u001b[0m\n\u001b[0;32m    277\u001b[0m \u001b[39mif\u001b[39;00m file \u001b[39min\u001b[39;00m {\u001b[39m0\u001b[39m, \u001b[39m1\u001b[39m, \u001b[39m2\u001b[39m}:\n\u001b[0;32m    278\u001b[0m     \u001b[39mraise\u001b[39;00m \u001b[39mValueError\u001b[39;00m(\n\u001b[0;32m    279\u001b[0m         \u001b[39mf\u001b[39m\u001b[39m\"\u001b[39m\u001b[39mIPython won\u001b[39m\u001b[39m'\u001b[39m\u001b[39mt let you open fd=\u001b[39m\u001b[39m{\u001b[39;00mfile\u001b[39m}\u001b[39;00m\u001b[39m by default \u001b[39m\u001b[39m\"\u001b[39m\n\u001b[0;32m    280\u001b[0m         \u001b[39m\"\u001b[39m\u001b[39mas it is likely to crash IPython. If you know what you are doing, \u001b[39m\u001b[39m\"\u001b[39m\n\u001b[0;32m    281\u001b[0m         \u001b[39m\"\u001b[39m\u001b[39myou can use builtins\u001b[39m\u001b[39m'\u001b[39m\u001b[39m open.\u001b[39m\u001b[39m\"\u001b[39m\n\u001b[0;32m    282\u001b[0m     )\n\u001b[1;32m--> 284\u001b[0m \u001b[39mreturn\u001b[39;00m io_open(file, \u001b[39m*\u001b[39margs, \u001b[39m*\u001b[39m\u001b[39m*\u001b[39mkwargs)\n",
      "\u001b[1;31mFileNotFoundError\u001b[0m: [Errno 2] No such file or directory: 'Expense_Income_Tracker.csv'"
     ]
    }
   ],
   "source": [
    "class expenseTracker:\n",
    "    def _init_(self):\n",
    "        self.transactionDetails={\"details\":[]}\n",
    "\n",
    "    def retrieveTransactions(self):\n",
    "        for i in open(\"Expense_Income_Tracker.csv\",\"r+\").readlines():\n",
    "            line=i.split(\",\")\n",
    "            if line[1]!=\"Expense Category\":\n",
    "                transaction={\"type\":line[0],\"category\":line[1],\"amount\":line[2],\"description\":line[3],\"date\":line[4]}\n",
    "                self.transactionDetails[\"details\"].append(transaction)\n",
    "\n",
    "    def calculateTotal(self):\n",
    "        totalIncome=0\n",
    "        totalExpense=0\n",
    "        for i in self.transactionDetails[\"details\"]:\n",
    "            if i[\"type\"]==\"Income\":\n",
    "                totalIncome+=int(i[\"amount\"])\n",
    "            else:\n",
    "                totalExpense+=int(i[\"amount\"])\n",
    "        return totalIncome,totalExpense\n",
    "    \n",
    "    def addTransaction(self,type,category,amount,description,date):\n",
    "        transaction={\"type\":type,\"category\":category,\"amount\":amount,\"description\":description,\"date\":date}\n",
    "        self.transactionDetails[\"details\"].append(transaction)\n",
    "    \n",
    "    def writeTransactions(self):\n",
    "        file=open(\"Expense_Income_Tracker.csv\",\"w+\")\n",
    "        file.write(\"Type,Expense Category,Amount,Description,Date\\n\")\n",
    "        for i in self.transactionDetails[\"details\"]:\n",
    "            date=str(i[\"date\"]).strip()\n",
    "            file.write(i[\"type\"]+\",\"+i[\"category\"]+\",\"+i[\"amount\"]+\",\"+i[\"description\"]+\",\"+date+\"\\n\")\n",
    "        file.close()\n",
    "\n",
    "\n",
    "order=expenseTracker()\n",
    "order.retrieveTransactions()\n",
    "while True:\n",
    "    print(\"1.Add New Transaction\\n2.Calculate Total Income and Expense\\n3.Exit\")\n",
    "    choice=int(input(\"Select your action:\"))\n",
    "    if choice==1:\n",
    "        type=input(\"Enter the type of transaction (Income/Expense):\")\n",
    "        category=input(\"Enter the category:\")\n",
    "        amount=input(\"Enter the amount:\")\n",
    "        description=input(\"Enter the description of transaction:\")\n",
    "        date=input(\"Enter the date mm/dd/yyyy:\")\n",
    "        order.addTransaction(type,category,amount,description,date)\n",
    "    elif choice==2:\n",
    "        totalIncome,totalExpense=order.calculateTotal()\n",
    "        print(\"Total Income=\",totalIncome,\"\\nTotal Expense=\",totalExpense)\n",
    "        order.writeTransactions()\n",
    "    elif choice==3:\n",
    "        order.writeTransactions()\n",
    "        exit()"
   ]
  }
 ],
 "metadata": {
  "kernelspec": {
   "display_name": "Python 3",
   "language": "python",
   "name": "python3"
  },
  "language_info": {
   "codemirror_mode": {
    "name": "ipython",
    "version": 3
   },
   "file_extension": ".py",
   "mimetype": "text/x-python",
   "name": "python",
   "nbconvert_exporter": "python",
   "pygments_lexer": "ipython3",
   "version": "3.10.7"
  },
  "orig_nbformat": 4
 },
 "nbformat": 4,
 "nbformat_minor": 2
}
