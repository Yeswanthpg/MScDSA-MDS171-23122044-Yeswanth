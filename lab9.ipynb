{
 "cells": [
  {
   "cell_type": "code",
   "execution_count": 2,
   "metadata": {},
   "outputs": [
    {
     "ename": "ValueError",
     "evalue": "invalid literal for int() with base 10: 'cost'",
     "output_type": "error",
     "traceback": [
      "\u001b[1;31m---------------------------------------------------------------------------\u001b[0m",
      "\u001b[1;31mValueError\u001b[0m                                Traceback (most recent call last)",
      "\u001b[1;32mc:\\Users\\yeswa\\MScDSA-MDS171-23122044-Yeswanth\\lab9.ipynb Cell 1\u001b[0m line \u001b[0;36m6\n\u001b[0;32m     <a href='vscode-notebook-cell:/c%3A/Users/yeswa/MScDSA-MDS171-23122044-Yeswanth/lab9.ipynb#W0sZmlsZQ%3D%3D?line=54'>55</a>\u001b[0m                 file\u001b[39m.\u001b[39mwrite(\n\u001b[0;32m     <a href='vscode-notebook-cell:/c%3A/Users/yeswa/MScDSA-MDS171-23122044-Yeswanth/lab9.ipynb#W0sZmlsZQ%3D%3D?line=55'>56</a>\u001b[0m                     \u001b[39mf\u001b[39m\u001b[39m\"\u001b[39m\u001b[39m{\u001b[39;00mi[\u001b[39m'\u001b[39m\u001b[39mtype\u001b[39m\u001b[39m'\u001b[39m]\u001b[39m}\u001b[39;00m\u001b[39m,\u001b[39m\u001b[39m{\u001b[39;00mi[\u001b[39m'\u001b[39m\u001b[39mcategory\u001b[39m\u001b[39m'\u001b[39m]\u001b[39m}\u001b[39;00m\u001b[39m,\u001b[39m\u001b[39m{\u001b[39;00mi[\u001b[39m'\u001b[39m\u001b[39mamount\u001b[39m\u001b[39m'\u001b[39m]\u001b[39m}\u001b[39;00m\u001b[39m,\u001b[39m\u001b[39m{\u001b[39;00mi[\u001b[39m'\u001b[39m\u001b[39mdescription\u001b[39m\u001b[39m'\u001b[39m]\u001b[39m}\u001b[39;00m\u001b[39m,\u001b[39m\u001b[39m{\u001b[39;00mi[\u001b[39m'\u001b[39m\u001b[39mdate\u001b[39m\u001b[39m'\u001b[39m]\u001b[39m}\u001b[39;00m\u001b[39m\\n\u001b[39;00m\u001b[39m\"\u001b[39m\n\u001b[0;32m     <a href='vscode-notebook-cell:/c%3A/Users/yeswa/MScDSA-MDS171-23122044-Yeswanth/lab9.ipynb#W0sZmlsZQ%3D%3D?line=56'>57</a>\u001b[0m                 )\n\u001b[0;32m     <a href='vscode-notebook-cell:/c%3A/Users/yeswa/MScDSA-MDS171-23122044-Yeswanth/lab9.ipynb#W0sZmlsZQ%3D%3D?line=59'>60</a>\u001b[0m order \u001b[39m=\u001b[39m expenseTracker()\n\u001b[1;32m---> <a href='vscode-notebook-cell:/c%3A/Users/yeswa/MScDSA-MDS171-23122044-Yeswanth/lab9.ipynb#W0sZmlsZQ%3D%3D?line=60'>61</a>\u001b[0m order\u001b[39m.\u001b[39;49mretrieveTransactions()\n\u001b[0;32m     <a href='vscode-notebook-cell:/c%3A/Users/yeswa/MScDSA-MDS171-23122044-Yeswanth/lab9.ipynb#W0sZmlsZQ%3D%3D?line=61'>62</a>\u001b[0m \u001b[39mwhile\u001b[39;00m \u001b[39mTrue\u001b[39;00m:\n\u001b[0;32m     <a href='vscode-notebook-cell:/c%3A/Users/yeswa/MScDSA-MDS171-23122044-Yeswanth/lab9.ipynb#W0sZmlsZQ%3D%3D?line=62'>63</a>\u001b[0m     \u001b[39mprint\u001b[39m(\u001b[39m\"\u001b[39m\u001b[39m1.Add New Transaction\u001b[39m\u001b[39m\\n\u001b[39;00m\u001b[39m2.Calculate Total Income and Expense\u001b[39m\u001b[39m\\n\u001b[39;00m\u001b[39m3.Exit\u001b[39m\u001b[39m\"\u001b[39m)\n",
      "\u001b[1;32mc:\\Users\\yeswa\\MScDSA-MDS171-23122044-Yeswanth\\lab9.ipynb Cell 1\u001b[0m line \u001b[0;36m1\n\u001b[0;32m     <a href='vscode-notebook-cell:/c%3A/Users/yeswa/MScDSA-MDS171-23122044-Yeswanth/lab9.ipynb#W0sZmlsZQ%3D%3D?line=10'>11</a>\u001b[0m             line \u001b[39m=\u001b[39m i\u001b[39m.\u001b[39mstrip()\u001b[39m.\u001b[39msplit(\u001b[39m\"\u001b[39m\u001b[39m,\u001b[39m\u001b[39m\"\u001b[39m)\n\u001b[0;32m     <a href='vscode-notebook-cell:/c%3A/Users/yeswa/MScDSA-MDS171-23122044-Yeswanth/lab9.ipynb#W0sZmlsZQ%3D%3D?line=11'>12</a>\u001b[0m             \u001b[39mif\u001b[39;00m \u001b[39mlen\u001b[39m(line) \u001b[39m==\u001b[39m \u001b[39m5\u001b[39m \u001b[39mand\u001b[39;00m line[\u001b[39m1\u001b[39m] \u001b[39m!=\u001b[39m \u001b[39m\"\u001b[39m\u001b[39mExpense Category\u001b[39m\u001b[39m\"\u001b[39m:\n\u001b[0;32m     <a href='vscode-notebook-cell:/c%3A/Users/yeswa/MScDSA-MDS171-23122044-Yeswanth/lab9.ipynb#W0sZmlsZQ%3D%3D?line=12'>13</a>\u001b[0m                 transaction \u001b[39m=\u001b[39m {\n\u001b[0;32m     <a href='vscode-notebook-cell:/c%3A/Users/yeswa/MScDSA-MDS171-23122044-Yeswanth/lab9.ipynb#W0sZmlsZQ%3D%3D?line=13'>14</a>\u001b[0m                     \u001b[39m\"\u001b[39m\u001b[39mtype\u001b[39m\u001b[39m\"\u001b[39m: line[\u001b[39m0\u001b[39m],\n\u001b[0;32m     <a href='vscode-notebook-cell:/c%3A/Users/yeswa/MScDSA-MDS171-23122044-Yeswanth/lab9.ipynb#W0sZmlsZQ%3D%3D?line=14'>15</a>\u001b[0m                     \u001b[39m\"\u001b[39m\u001b[39mcategory\u001b[39m\u001b[39m\"\u001b[39m: line[\u001b[39m1\u001b[39m],\n\u001b[1;32m---> <a href='vscode-notebook-cell:/c%3A/Users/yeswa/MScDSA-MDS171-23122044-Yeswanth/lab9.ipynb#W0sZmlsZQ%3D%3D?line=15'>16</a>\u001b[0m                     \u001b[39m\"\u001b[39m\u001b[39mamount\u001b[39m\u001b[39m\"\u001b[39m: \u001b[39mint\u001b[39;49m(line[\u001b[39m2\u001b[39;49m]),\n\u001b[0;32m     <a href='vscode-notebook-cell:/c%3A/Users/yeswa/MScDSA-MDS171-23122044-Yeswanth/lab9.ipynb#W0sZmlsZQ%3D%3D?line=16'>17</a>\u001b[0m                     \u001b[39m\"\u001b[39m\u001b[39mdescription\u001b[39m\u001b[39m\"\u001b[39m: line[\u001b[39m3\u001b[39m],\n\u001b[0;32m     <a href='vscode-notebook-cell:/c%3A/Users/yeswa/MScDSA-MDS171-23122044-Yeswanth/lab9.ipynb#W0sZmlsZQ%3D%3D?line=17'>18</a>\u001b[0m                     \u001b[39m\"\u001b[39m\u001b[39mdate\u001b[39m\u001b[39m\"\u001b[39m: line[\u001b[39m4\u001b[39m],\n\u001b[0;32m     <a href='vscode-notebook-cell:/c%3A/Users/yeswa/MScDSA-MDS171-23122044-Yeswanth/lab9.ipynb#W0sZmlsZQ%3D%3D?line=18'>19</a>\u001b[0m                 }\n\u001b[0;32m     <a href='vscode-notebook-cell:/c%3A/Users/yeswa/MScDSA-MDS171-23122044-Yeswanth/lab9.ipynb#W0sZmlsZQ%3D%3D?line=19'>20</a>\u001b[0m                 \u001b[39mself\u001b[39m\u001b[39m.\u001b[39mtransactionDetails[\u001b[39m\"\u001b[39m\u001b[39mdetails\u001b[39m\u001b[39m\"\u001b[39m]\u001b[39m.\u001b[39mappend(transaction)\n\u001b[0;32m     <a href='vscode-notebook-cell:/c%3A/Users/yeswa/MScDSA-MDS171-23122044-Yeswanth/lab9.ipynb#W0sZmlsZQ%3D%3D?line=20'>21</a>\u001b[0m \u001b[39mexcept\u001b[39;00m \u001b[39mFileNotFoundError\u001b[39;00m:\n\u001b[0;32m     <a href='vscode-notebook-cell:/c%3A/Users/yeswa/MScDSA-MDS171-23122044-Yeswanth/lab9.ipynb#W0sZmlsZQ%3D%3D?line=21'>22</a>\u001b[0m     \u001b[39m# Handle the case where the file does not exist\u001b[39;00m\n",
      "\u001b[1;31mValueError\u001b[0m: invalid literal for int() with base 10: 'cost'"
     ]
    }
   ],
   "source": [
    "class expenseTracker:\n",
    "    def __init__(self):\n",
    "        self.transactionDetails={\"details\":[]}\n",
    "\n",
    "    def retrieveTransactions(self):\n",
    "        for i in open(\"Expense_Income_Tracker.csv\",\"r+\").readlines():\n",
    "            line=i.split(\",\")\n",
    "            if line[1]!=\"Expense Category\":\n",
    "                transaction={\"type\":line[0],\"category\":line[1],\"amount\":line[2],\"description\":line[3],\"date\":line[4]}\n",
    "                self.transactionDetails[\"details\"].append(transaction)\n",
    "\n",
    "    def calculateTotal(self):\n",
    "        totalIncome=0\n",
    "        totalExpense=0\n",
    "        for i in self.transactionDetails[\"details\"]:\n",
    "            if i[\"type\"]==\"Income\":\n",
    "                totalIncome+=int(i[\"amount\"])\n",
    "            else:\n",
    "                totalExpense+=int(i[\"amount\"])\n",
    "        return totalIncome,totalExpense\n",
    "    \n",
    "    def addTransaction(self,type,category,amount,description,date):\n",
    "        transaction={\"type\":type,\"category\":category,\"amount\":amount,\"description\":description,\"date\":date}\n",
    "        self.transactionDetails[\"details\"].append(transaction)\n",
    "    \n",
    "    def writeTransactions(self):\n",
    "        file=open(\"Expense_Income_Tracker.csv\",\"w+\")\n",
    "        file.write(\"Type,Expense Category,Amount,Description,Date\\n\")\n",
    "        for i in self.transactionDetails[\"details\"]:\n",
    "            date=str(i[\"date\"]).strip()\n",
    "            file.write(i[\"type\"]+\",\"+i[\"category\"]+\",\"+i[\"amount\"]+\",\"+i[\"description\"]+\",\"+date+\"\\n\")\n",
    "        file.close()\n",
    "\n",
    "\n",
    "order=expenseTracker()\n",
    "order.retrieveTransactions()\n",
    "while True:\n",
    "    print(\"1.Add New Transaction\\n2.Calculate Total Income and Expense\\n3.Exit\")\n",
    "    choice=int(input(\"Select your action:\"))\n",
    "    if choice==1:\n",
    "        type=input(\"Enter the type of transaction (Income/Expense):\")\n",
    "        category=input(\"Enter the category:\")\n",
    "        amount=input(\"Enter the amount:\")\n",
    "        description=input(\"Enter the description of transaction:\")\n",
    "        date=input(\"Enter the date mm/dd/yyyy:\")\n",
    "        order.addTransaction(type,category,amount,description,date)\n",
    "    elif choice==2:\n",
    "        totalIncome,totalExpense=order.calculateTotal()\n",
    "        print(\"Total Income=\",totalIncome,\"\\nTotal Expense=\",totalExpense)\n",
    "        order.writeTransactions()\n",
    "    elif choice==3:\n",
    "        order.writeTransactions()\n",
    "        exit()"
   ]
  }
 ],
 "metadata": {
  "kernelspec": {
   "display_name": "Python 3",
   "language": "python",
   "name": "python3"
  },
  "language_info": {
   "codemirror_mode": {
    "name": "ipython",
    "version": 3
   },
   "file_extension": ".py",
   "mimetype": "text/x-python",
   "name": "python",
   "nbconvert_exporter": "python",
   "pygments_lexer": "ipython3",
   "version": "3.10.7"
  },
  "orig_nbformat": 4
 },
 "nbformat": 4,
 "nbformat_minor": 2
}
